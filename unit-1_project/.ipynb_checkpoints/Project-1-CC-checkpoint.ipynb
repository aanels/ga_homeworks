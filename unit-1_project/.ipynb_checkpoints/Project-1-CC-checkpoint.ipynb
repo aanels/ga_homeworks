{
 "cells": [
  {
   "cell_type": "markdown",
   "metadata": {},
   "source": [
    "<img src=\"http://imgur.com/1ZcRyrc.png\" style=\"float: left; margin: 20px; height: 55px\">\n",
    "\n",
    "# Project 1: Python Coding Exercises\n",
    "\n",
    "_Authors: Joseph Nelson (DC) _\n",
    "\n",
    "---"
   ]
  },
  {
   "cell_type": "markdown",
   "metadata": {},
   "source": [
    "The following code challenges are drawn from common exercises used in technical interviews.\n",
    "\n",
    "Please note that there may be several ways to approach each challenge. If you get stuck, try mapping out your approach in pseudocode first. Finally, while solutions to problems like these may be found online, remember that if you copy/paste code that you can't explain, you'll be missing out on the point of the project. The only way to truly learn a new skill is through practice, trial, and error - we can only help you improve by understanding where you are having trouble."
   ]
  },
  {
   "cell_type": "markdown",
   "metadata": {},
   "source": [
    "### Challenge 1: Largest Palindrome\n",
    "A palindromic number reads the same both ways. For example, 1234321 is a palindrome. The largest palindrome made from the product of two two-digit numbers is 9009 = 91 × 99. Find the largest palindrome made from the product of two three-digit numbers. Afterward, write a brief explanation walking through your code's logic in markdown."
   ]
  },
  {
   "cell_type": "code",
   "execution_count": 6,
   "metadata": {},
   "outputs": [
    {
     "name": "stdout",
     "output_type": "stream",
     "text": [
      "999\n",
      "99\n",
      "Largest palindrome :  906609\n"
     ]
    }
   ],
   "source": [
    "def is_palindrome(s):\n",
    "    '''Given a string checks if it is a palindrome or not'''\n",
    "    \n",
    "    # We check from first character to middle character if it matches from the last.\n",
    "    rev_ind = len(s)-1\n",
    "    mid_point = len(s) // 2\n",
    "    \n",
    "    for i in range(0,mid_point):\n",
    "        if s[i] != s[rev_ind] :\n",
    "              return False\n",
    "        rev_ind = rev_ind - 1\n",
    "    return True          \n",
    "\n",
    "def find_largest_palindrome(num_digits):\n",
    "    '''Finds largest palindrome among the multiples of two numbers with given number of digits\n",
    "    \n",
    "    '''\n",
    "    end_till = 10**num_digits - 1    \n",
    "    print (end_till)\n",
    "    \n",
    "    start_after = 10**(num_digits - 1) - 1\n",
    "    print (start_after)\n",
    "        \n",
    "    # Find all combination of two given digit numbers\n",
    "    multiples = []\n",
    "    for i in range(end_till, start_after, -1):\n",
    "        for j in range(i,start_after,-1):\n",
    "            #print(i,j, i*j)\n",
    "            multiples.append(i*j)\n",
    "    \n",
    "    # Sort them in descending order\n",
    "    #print(multiples)        \n",
    "    multiples.sort(reverse=True)\n",
    "    #print(multiples)        \n",
    "    \n",
    "    # Check for palindrome\n",
    "    for p in multiples:        \n",
    "        #print (str(p))\n",
    "        if is_palindrome(str(p)):                \n",
    "            #print('**')\n",
    "            return p        \n",
    "    \n",
    "    return None\n",
    "\n",
    "print(\"Largest palindrome : \", find_largest_palindrome(3))\n"
   ]
  },
  {
   "cell_type": "markdown",
   "metadata": {},
   "source": [
    "### Function is_palindrome\n",
    "\n",
    "Given a string checks if it is a palindrome or not and returns True or False accordingly.\n",
    "\n",
    "Logic used:\n",
    "Check first character with last character. If they match proceed to next check. If they don't match then return False.\n",
    "Next check second character with the last but one character. If they match proceed to next check. If they don't match then return False. \n",
    "Proceed like this until we reach the middle character.\n",
    "If we have come so far, it means that the given string is a palindrome. Hence return true.\n",
    "\n",
    "\n",
    "### Function find_largest\n",
    "\n",
    "Given the number of digits num_digits, finds the largest palindrome formed by the product of two num_digits digits numbers.\n",
    "\n",
    "This uses the function is_palindrome function defined above.\n",
    "\n",
    "The first step is to find largest and smallest numbers that we are interested with the given num_digits. These can be obtained using formula:\n",
    " end_till = 10 to the power of (num_digits) - 1    \n",
    " start_after = 10 to the power of (num_digits - 1) - 1\n",
    "    \n",
    "Logic:\n",
    "Form all possible combinations of two \"num_digits\" numbers, find their product, sort them in descending order and check one by one for palindrome and stop when found.\n",
    "\n",
    "Optimization:\n",
    "As we are interested only in the product of two number and as a x b is same as b x a, instead of taking all possible combinations of those two numbers, we can skip b x a if a x b has already been considered. \n",
    "This is achieved by using current index of the outer loop as the range beginning of inner loop.\n",
    "\n",
    "i.e.,\n",
    "\n",
    "    for i in range(end_till, start_after, -1):\n",
    "        for j in range(i,start_after,-1):\n",
    "\n",
    "instead of\n",
    "\n",
    "    for i in range(end_till, start_after, -1):\n",
    "        for j in range(end_till,start_after,-1):\n"
   ]
  },
  {
   "cell_type": "markdown",
   "metadata": {},
   "source": [
    "\n",
    "### Challenge 2: Summation of Primes\n",
    "The sum of the primes below 10 is 2 + 3 + 5 + 7 = 17. Find the sum of all the primes below 2,000. Afterward, write a brief explanation walking through your code's logic in markdown."
   ]
  },
  {
   "cell_type": "code",
   "execution_count": 5,
   "metadata": {},
   "outputs": [
    {
     "name": "stdout",
     "output_type": "stream",
     "text": [
      "277050\n"
     ]
    }
   ],
   "source": [
    "def is_prime(n):\n",
    "    #Special conditions\n",
    "    if n <= 1:\n",
    "        return False\n",
    "    if n == 2:\n",
    "        return True\n",
    "    \n",
    "    end_point = n/1\n",
    "    div_num = 2\n",
    "    while True:\n",
    "        #print (\"Div:\", div_num)\n",
    "        if (n % div_num) == 0:\n",
    "            #print (\"Divides by: \", div_num)\n",
    "            return False\n",
    "        end_point = n // div_num\n",
    "        #print (end_point)\n",
    "        if div_num > end_point:\n",
    "            return True\n",
    "        div_num += 1\n",
    "    return None   \n",
    "\n",
    "def sum_primes(n):\n",
    "    '''Sum all prime numbers less than given number n'''\n",
    "    \n",
    "    sum_of_primes = 0\n",
    "    for i in range(n):\n",
    "        if is_prime(i):\n",
    "            #print (i)\n",
    "            sum_of_primes += i\n",
    "    return sum_of_primes\n",
    "\n",
    "print (sum_primes(2000))   "
   ]
  },
  {
   "cell_type": "markdown",
   "metadata": {},
   "source": [
    "### Challenge 3: Multiples of 3 and 5\n",
    "If we list all of the natural numbers below 10 that are multiples of 3 or 5, we get 3, 5, 6, and 9. The sum of these multiples is 23. Find the sum of all the multiples of 3 and 5 below 1,000. Afterward, write a brief explanation walking through your code's logic in markdown."
   ]
  },
  {
   "cell_type": "code",
   "execution_count": 14,
   "metadata": {},
   "outputs": [
    {
     "name": "stdout",
     "output_type": "stream",
     "text": [
      "233168\n"
     ]
    }
   ],
   "source": [
    "def sum_multiples(below, factors):\n",
    "    '''Sums all the multiples of given factors below a given number'''\n",
    "    sum_result = 0\n",
    "    for i in range(below):\n",
    "        for f in factors:\n",
    "            if i % f == 0:\n",
    "                #print ((i,f))\n",
    "                sum_result += i\n",
    "                break\n",
    "    return sum_result\n",
    "\n",
    "print(sum_multiples(1000,[3,5]))               "
   ]
  },
  {
   "cell_type": "markdown",
   "metadata": {},
   "source": [
    "### Challenge 4: String Compressor\n",
    "Implement a method to perform basic string compression using the counts of repeated characters. (This is called run-length encoding.) For example, the string \"aabcccccaaa\" would become a2b1c5a3. If the “compressed” string would not become smaller than the original string, your method should return the original string. You can assume the string has only uppercase and lowercase letters (a–z). Specify whether your solution is case sensitive or case insensitive and what you would need to change to make it the other. Afterward, write a brief explanation walking through your code's logic in markdown."
   ]
  },
  {
   "cell_type": "code",
   "execution_count": 16,
   "metadata": {},
   "outputs": [
    {
     "name": "stdout",
     "output_type": "stream",
     "text": [
      "A5b\n",
      "Aa3Ab\n"
     ]
    }
   ],
   "source": [
    "def compress_by_runlen(s,ignore_case=False):\n",
    "    \n",
    "    return_s = \"\"\n",
    "    prev_char = s[0]\n",
    "    repeat_count = 1\n",
    "    \n",
    "    for i in range(1,len(s)):\n",
    "        curr_char = s[i]   \n",
    "        \n",
    "    \n",
    "        if (prev_char == curr_char and not ignore_case or prev_char.upper() == curr_char.upper() and ignore_case):\n",
    "            repeat_count += 1\n",
    "        else:\n",
    "            if repeat_count > 1:\n",
    "                return_s = return_s + prev_char + str(repeat_count)\n",
    "            else:\n",
    "                return_s = return_s + prev_char\n",
    "            # Reset repeat counts and prev char    \n",
    "            repeat_count = 1\n",
    "            prev_char = curr_char\n",
    "            \n",
    "        # Handle for last char\n",
    "        if i == (len(s) - 1):\n",
    "            if repeat_count > 1:\n",
    "                return_s = return_s + curr_char + str(repeat_count)\n",
    "            else:\n",
    "                return_s = return_s + curr_char\n",
    "    # Final check\n",
    "    if len(s) < len(return_s):\n",
    "        return s\n",
    "    else:\n",
    "        return return_s\n",
    "        \n",
    "    return return_s        \n",
    "            \n",
    "print(compress_by_runlen(\"AaaaAb\",True))\n",
    "print(compress_by_runlen(\"AaaaAb\"))"
   ]
  },
  {
   "cell_type": "markdown",
   "metadata": {},
   "source": [
    "### *BONUS* Challenge: FizzBuzz\n",
    "Write a program that prints all of the numbers from 1 to 100. For multiples of 3, instead of the number, print \"Fizz;\" for multiples of 5, print \"Buzz.\" For numbers that are multiples of both 3 and 5, print \"FizzBuzz.\" Afterward, write a brief explanation walking through your code's logic in markdown."
   ]
  },
  {
   "cell_type": "code",
   "execution_count": 18,
   "metadata": {},
   "outputs": [
    {
     "name": "stdout",
     "output_type": "stream",
     "text": [
      "1\n",
      "2\n",
      "Fizz\n",
      "4\n",
      "Buzz\n",
      "Fizz\n",
      "7\n",
      "8\n",
      "Fizz\n",
      "Buzz\n",
      "11\n",
      "Fizz\n",
      "13\n",
      "14\n",
      "FizzBuzz\n",
      "16\n",
      "17\n",
      "Fizz\n",
      "19\n",
      "Buzz\n",
      "Fizz\n",
      "22\n",
      "23\n",
      "Fizz\n",
      "Buzz\n",
      "26\n",
      "Fizz\n",
      "28\n",
      "29\n",
      "FizzBuzz\n",
      "31\n",
      "32\n",
      "Fizz\n",
      "34\n",
      "Buzz\n",
      "Fizz\n",
      "37\n",
      "38\n",
      "Fizz\n",
      "Buzz\n",
      "41\n",
      "Fizz\n",
      "43\n",
      "44\n",
      "FizzBuzz\n",
      "46\n",
      "47\n",
      "Fizz\n",
      "49\n",
      "Buzz\n",
      "Fizz\n",
      "52\n",
      "53\n",
      "Fizz\n",
      "Buzz\n",
      "56\n",
      "Fizz\n",
      "58\n",
      "59\n",
      "FizzBuzz\n",
      "61\n",
      "62\n",
      "Fizz\n",
      "64\n",
      "Buzz\n",
      "Fizz\n",
      "67\n",
      "68\n",
      "Fizz\n",
      "Buzz\n",
      "71\n",
      "Fizz\n",
      "73\n",
      "74\n",
      "FizzBuzz\n",
      "76\n",
      "77\n",
      "Fizz\n",
      "79\n",
      "Buzz\n",
      "Fizz\n",
      "82\n",
      "83\n",
      "Fizz\n",
      "Buzz\n",
      "86\n",
      "Fizz\n",
      "88\n",
      "89\n",
      "FizzBuzz\n",
      "91\n",
      "92\n",
      "Fizz\n",
      "94\n",
      "Buzz\n",
      "Fizz\n",
      "97\n",
      "98\n",
      "Fizz\n",
      "Buzz\n"
     ]
    }
   ],
   "source": [
    "for i in range(1,101):\n",
    "    if i % 3 == 0 and i % 5 == 0:\n",
    "        print (\"FizzBuzz\")\n",
    "    elif i % 3 == 0:\n",
    "        print (\"Fizz\")\n",
    "    elif i % 5 == 0:\n",
    "        print (\"Buzz\")\n",
    "    else:\n",
    "        print (i)\n",
    "        \n",
    "        "
   ]
  },
  {
   "cell_type": "code",
   "execution_count": null,
   "metadata": {},
   "outputs": [],
   "source": []
  }
 ],
 "metadata": {
  "anaconda-cloud": {},
  "kernelspec": {
   "display_name": "Python 3",
   "language": "python",
   "name": "python3"
  },
  "language_info": {
   "codemirror_mode": {
    "name": "ipython",
    "version": 3
   },
   "file_extension": ".py",
   "mimetype": "text/x-python",
   "name": "python",
   "nbconvert_exporter": "python",
   "pygments_lexer": "ipython3",
   "version": "3.6.5"
  }
 },
 "nbformat": 4,
 "nbformat_minor": 2
}
