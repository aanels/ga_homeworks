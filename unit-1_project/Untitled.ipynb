{
 "cells": [
  {
   "cell_type": "code",
   "execution_count": 41,
   "metadata": {},
   "outputs": [
    {
     "name": "stdout",
     "output_type": "stream",
     "text": [
      "999\n",
      "(995, 583)\n",
      "Largest palindrome :  580085\n"
     ]
    }
   ],
   "source": [
    "def is_palindrome(s):\n",
    "    '''Given a string checks if it is a palindrome or not'''\n",
    "    \n",
    "    # We check from first character to middle character if it matches from the last.\n",
    "    rev_ind = len(s)-1\n",
    "    mid_point = len(s) // 2\n",
    "    \n",
    "    for i in range(0,mid_point):\n",
    "        if s[i] != s[rev_ind] :\n",
    "              return False\n",
    "        rev_ind = rev_ind - 1\n",
    "    return True          \n",
    "\n",
    "def find_largest(num_digits):\n",
    "    '''Finds largest palindrome for multiples of given number of digits\n",
    "       Eg. 2 digits, 99 x 91 \n",
    "    '''\n",
    "    given_num = 10**num_digits - 1\n",
    "    \n",
    "    print (given_num)\n",
    "    start_from = 10**(num_digits - 1) - 1\n",
    "    \n",
    "    end_point = given_num\n",
    "    for i in range(given_num, start_from, -1):\n",
    "        for j in range(end_point,start_from,-1):\n",
    "            if is_palindrome(str(i*j)):\n",
    "                print ((i,j))\n",
    "                return i*j\n",
    "        end_point = end_point - 1   \n",
    "\n",
    "print(\"Largest palindrome : \", find_largest(3))"
   ]
  },
  {
   "cell_type": "code",
   "execution_count": 32,
   "metadata": {},
   "outputs": [
    {
     "name": "stdout",
     "output_type": "stream",
     "text": [
      "0 x 0\n",
      "0 x 1\n",
      "0 x 2\n",
      "0 x 3\n",
      "0 x 4\n",
      "1 x 0\n",
      "1 x 1\n",
      "1 x 2\n",
      "1 x 3\n",
      "1 x 4\n",
      "2 x 0\n",
      "2 x 1\n",
      "2 x 2\n",
      "2 x 3\n",
      "2 x 4\n",
      "3 x 0\n",
      "3 x 1\n",
      "3 x 2\n",
      "3 x 3\n",
      "3 x 4\n",
      "4 x 0\n",
      "4 x 1\n",
      "4 x 2\n",
      "4 x 3\n",
      "4 x 4\n"
     ]
    }
   ],
   "source": [
    "for i in range(5):\n",
    "    for j in (range(5)):\n",
    "        print (\"%d x %d\" % (i,j) )"
   ]
  },
  {
   "cell_type": "code",
   "execution_count": 28,
   "metadata": {},
   "outputs": [
    {
     "name": "stdout",
     "output_type": "stream",
     "text": [
      "(5, 5)\n",
      "(5, 4)\n",
      "(5, 3)\n",
      "(5, 2)\n",
      "(5, 1)\n",
      "(4, 4)\n",
      "(4, 3)\n",
      "(4, 2)\n",
      "(4, 1)\n",
      "(3, 3)\n",
      "(3, 2)\n",
      "(3, 1)\n",
      "(2, 2)\n",
      "(2, 1)\n",
      "(1, 1)\n"
     ]
    }
   ],
   "source": [
    "end_point = 5\n",
    "for i in range(5, 0, -1):\n",
    "    for j in range(end_point,0,-1):\n",
    "        print ( (i,j))\n",
    "    end_point = end_point - 1    "
   ]
  },
  {
   "cell_type": "code",
   "execution_count": 43,
   "metadata": {},
   "outputs": [
    {
     "name": "stdout",
     "output_type": "stream",
     "text": [
      "3\n",
      "2\n",
      "1\n"
     ]
    }
   ],
   "source": [
    "for i in range(3,0,-1):\n",
    "    print (i)"
   ]
  },
  {
   "cell_type": "code",
   "execution_count": 86,
   "metadata": {},
   "outputs": [
    {
     "name": "stdout",
     "output_type": "stream",
     "text": [
      "277050\n"
     ]
    }
   ],
   "source": [
    "def is_prime(n):\n",
    "    #Special conditions\n",
    "    if n <= 1:\n",
    "        return False\n",
    "    if n == 2:\n",
    "        return True\n",
    "    \n",
    "    end_point = n/1\n",
    "    div_num = 2\n",
    "    while True:\n",
    "        #print (\"Div:\", div_num)\n",
    "        if (n % div_num) == 0:\n",
    "            #print (\"Divides by: \", div_num)\n",
    "            return False\n",
    "        end_point = n // div_num\n",
    "        #print (end_point)\n",
    "        if div_num > end_point:\n",
    "            return True\n",
    "        div_num += 1\n",
    "    return None   \n",
    "\n",
    "def sum_primes(n):\n",
    "    '''Sum all prime numbers less than given number n'''\n",
    "    \n",
    "    sum_of_primes = 0\n",
    "    for i in range(n):\n",
    "        if is_prime(i):\n",
    "            #print (i)\n",
    "            sum_of_primes += i\n",
    "    return sum_of_primes\n",
    "\n",
    "print (sum_primes(2000))   "
   ]
  },
  {
   "cell_type": "code",
   "execution_count": 94,
   "metadata": {},
   "outputs": [
    {
     "name": "stdout",
     "output_type": "stream",
     "text": [
      "233168\n"
     ]
    }
   ],
   "source": [
    "def sum_multiples(below, factors):\n",
    "    sum_result = 0\n",
    "    for i in range(below):\n",
    "        for f in factors:\n",
    "            if i % f == 0:\n",
    "                #print ((i,f))\n",
    "                sum_result += i\n",
    "                break\n",
    "    return sum_result\n",
    "\n",
    "print(sum_multiples(1000,[3,5]))"
   ]
  },
  {
   "cell_type": "code",
   "execution_count": 130,
   "metadata": {},
   "outputs": [
    {
     "name": "stdout",
     "output_type": "stream",
     "text": [
      "A5b\n"
     ]
    }
   ],
   "source": [
    "def compress_by_runlen(s,ignore_case=False):\n",
    "    \n",
    "    return_s = \"\"\n",
    "    prev_char = s[0]\n",
    "    repeat_count = 1\n",
    "    \n",
    "    for i in range(1,len(s)):\n",
    "        curr_char = s[i]   \n",
    "        \n",
    "    \n",
    "        if (prev_char == curr_char and not ignore_case or prev_char.upper() == curr_char.upper() and ignore_case):\n",
    "            repeat_count += 1\n",
    "        else:\n",
    "            if repeat_count > 1:\n",
    "                return_s = return_s + prev_char + str(repeat_count)\n",
    "            else:\n",
    "                return_s = return_s + prev_char\n",
    "            # Reset repeat counts and prev char    \n",
    "            repeat_count = 1\n",
    "            prev_char = curr_char\n",
    "            \n",
    "        # Handle for last char\n",
    "        if i == (len(s) - 1):\n",
    "            if repeat_count > 1:\n",
    "                return_s = return_s + curr_char + str(repeat_count)\n",
    "            else:\n",
    "                return_s = return_s + curr_char\n",
    "    # Final check\n",
    "    if len(s) < len(return_s):\n",
    "        return s\n",
    "    else:\n",
    "        return return_s\n",
    "        \n",
    "    return return_s        \n",
    "            \n",
    "print(compress_by_runlen(\"AaaaAb\",True))            "
   ]
  },
  {
   "cell_type": "code",
   "execution_count": null,
   "metadata": {},
   "outputs": [],
   "source": []
  }
 ],
 "metadata": {
  "kernelspec": {
   "display_name": "Python 3",
   "language": "python",
   "name": "python3"
  },
  "language_info": {
   "codemirror_mode": {
    "name": "ipython",
    "version": 3
   },
   "file_extension": ".py",
   "mimetype": "text/x-python",
   "name": "python",
   "nbconvert_exporter": "python",
   "pygments_lexer": "ipython3",
   "version": "3.6.5"
  }
 },
 "nbformat": 4,
 "nbformat_minor": 2
}
