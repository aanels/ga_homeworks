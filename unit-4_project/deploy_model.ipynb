{
 "cells": [
  {
   "cell_type": "code",
   "execution_count": 61,
   "metadata": {},
   "outputs": [],
   "source": [
    "import pandas as pd\n",
    "from matplotlib import pyplot as plt\n",
    "from statsmodels.tsa.arima_model import ARIMA\n",
    "from sklearn.metrics import mean_squared_error\n",
    "from sklearn.model_selection import train_test_split\n",
    "import numpy as np\n",
    "from datetime import datetime\n",
    "from fbprophet import Prophet\n",
    "import pickle"
   ]
  },
  {
   "cell_type": "code",
   "execution_count": 2,
   "metadata": {},
   "outputs": [],
   "source": [
    "df = pd.read_csv(\"./data/ts_processed.csv\",parse_dates=[0])"
   ]
  },
  {
   "cell_type": "code",
   "execution_count": 3,
   "metadata": {},
   "outputs": [
    {
     "name": "stdout",
     "output_type": "stream",
     "text": [
      "<class 'pandas.core.frame.DataFrame'>\n",
      "RangeIndex: 674116 entries, 0 to 674115\n",
      "Data columns (total 5 columns):\n",
      "drp_dtm         674116 non-null datetime64[ns]\n",
      "drp_yyyymmdd    674116 non-null int64\n",
      "drp_hrmi        674116 non-null float64\n",
      "drp_loc         674116 non-null object\n",
      "trips_count     674116 non-null int64\n",
      "dtypes: datetime64[ns](1), float64(1), int64(2), object(1)\n",
      "memory usage: 25.7+ MB\n"
     ]
    }
   ],
   "source": [
    "df.info()"
   ]
  },
  {
   "cell_type": "code",
   "execution_count": 7,
   "metadata": {},
   "outputs": [
    {
     "data": {
      "text/html": [
       "<div>\n",
       "<style scoped>\n",
       "    .dataframe tbody tr th:only-of-type {\n",
       "        vertical-align: middle;\n",
       "    }\n",
       "\n",
       "    .dataframe tbody tr th {\n",
       "        vertical-align: top;\n",
       "    }\n",
       "\n",
       "    .dataframe thead th {\n",
       "        text-align: right;\n",
       "    }\n",
       "</style>\n",
       "<table border=\"1\" class=\"dataframe\">\n",
       "  <thead>\n",
       "    <tr style=\"text-align: right;\">\n",
       "      <th></th>\n",
       "      <th>drp_dtm</th>\n",
       "      <th>drp_yyyymmdd</th>\n",
       "      <th>drp_hrmi</th>\n",
       "      <th>drp_loc</th>\n",
       "      <th>trips_count</th>\n",
       "    </tr>\n",
       "  </thead>\n",
       "  <tbody>\n",
       "    <tr>\n",
       "      <th>0</th>\n",
       "      <td>2016-01-01</td>\n",
       "      <td>20160101</td>\n",
       "      <td>0.0</td>\n",
       "      <td>-73.93_40.71</td>\n",
       "      <td>1</td>\n",
       "    </tr>\n",
       "    <tr>\n",
       "      <th>1</th>\n",
       "      <td>2016-01-01</td>\n",
       "      <td>20160101</td>\n",
       "      <td>0.0</td>\n",
       "      <td>-73.94_40.83</td>\n",
       "      <td>1</td>\n",
       "    </tr>\n",
       "    <tr>\n",
       "      <th>2</th>\n",
       "      <td>2016-01-01</td>\n",
       "      <td>20160101</td>\n",
       "      <td>0.0</td>\n",
       "      <td>-73.94_40.85</td>\n",
       "      <td>1</td>\n",
       "    </tr>\n",
       "    <tr>\n",
       "      <th>3</th>\n",
       "      <td>2016-01-01</td>\n",
       "      <td>20160101</td>\n",
       "      <td>0.0</td>\n",
       "      <td>-73.95_40.82</td>\n",
       "      <td>1</td>\n",
       "    </tr>\n",
       "    <tr>\n",
       "      <th>4</th>\n",
       "      <td>2016-01-01</td>\n",
       "      <td>20160101</td>\n",
       "      <td>0.0</td>\n",
       "      <td>-73.97_40.74</td>\n",
       "      <td>1</td>\n",
       "    </tr>\n",
       "  </tbody>\n",
       "</table>\n",
       "</div>"
      ],
      "text/plain": [
       "     drp_dtm  drp_yyyymmdd  drp_hrmi       drp_loc  trips_count\n",
       "0 2016-01-01      20160101       0.0  -73.93_40.71            1\n",
       "1 2016-01-01      20160101       0.0  -73.94_40.83            1\n",
       "2 2016-01-01      20160101       0.0  -73.94_40.85            1\n",
       "3 2016-01-01      20160101       0.0  -73.95_40.82            1\n",
       "4 2016-01-01      20160101       0.0  -73.97_40.74            1"
      ]
     },
     "execution_count": 7,
     "metadata": {},
     "output_type": "execute_result"
    }
   ],
   "source": [
    "df.head()"
   ]
  },
  {
   "cell_type": "code",
   "execution_count": 5,
   "metadata": {},
   "outputs": [
    {
     "data": {
      "text/plain": [
       "20160101"
      ]
     },
     "execution_count": 5,
     "metadata": {},
     "output_type": "execute_result"
    }
   ],
   "source": [
    "df.drp_yyyymmdd.min()"
   ]
  },
  {
   "cell_type": "code",
   "execution_count": 6,
   "metadata": {},
   "outputs": [
    {
     "data": {
      "text/plain": [
       "20160701"
      ]
     },
     "execution_count": 6,
     "metadata": {},
     "output_type": "execute_result"
    }
   ],
   "source": [
    "df.drp_yyyymmdd.max()"
   ]
  },
  {
   "cell_type": "markdown",
   "metadata": {},
   "source": [
    "Train using 5 months data for all each of the location"
   ]
  },
  {
   "cell_type": "code",
   "execution_count": 14,
   "metadata": {},
   "outputs": [
    {
     "data": {
      "text/html": [
       "<div>\n",
       "<style scoped>\n",
       "    .dataframe tbody tr th:only-of-type {\n",
       "        vertical-align: middle;\n",
       "    }\n",
       "\n",
       "    .dataframe tbody tr th {\n",
       "        vertical-align: top;\n",
       "    }\n",
       "\n",
       "    .dataframe thead th {\n",
       "        text-align: right;\n",
       "    }\n",
       "</style>\n",
       "<table border=\"1\" class=\"dataframe\">\n",
       "  <thead>\n",
       "    <tr style=\"text-align: right;\">\n",
       "      <th></th>\n",
       "      <th>drp_dtm</th>\n",
       "      <th>trips_count</th>\n",
       "    </tr>\n",
       "  </thead>\n",
       "  <tbody>\n",
       "    <tr>\n",
       "      <th>1</th>\n",
       "      <td>2016-01-01 00:00:00</td>\n",
       "      <td>1</td>\n",
       "    </tr>\n",
       "    <tr>\n",
       "      <th>30</th>\n",
       "      <td>2016-01-01 00:15:00</td>\n",
       "      <td>1</td>\n",
       "    </tr>\n",
       "    <tr>\n",
       "      <th>85</th>\n",
       "      <td>2016-01-01 00:30:00</td>\n",
       "      <td>2</td>\n",
       "    </tr>\n",
       "    <tr>\n",
       "      <th>141</th>\n",
       "      <td>2016-01-01 00:45:00</td>\n",
       "      <td>1</td>\n",
       "    </tr>\n",
       "    <tr>\n",
       "      <th>211</th>\n",
       "      <td>2016-01-01 01:00:00</td>\n",
       "      <td>1</td>\n",
       "    </tr>\n",
       "  </tbody>\n",
       "</table>\n",
       "</div>"
      ],
      "text/plain": [
       "                drp_dtm  trips_count\n",
       "1   2016-01-01 00:00:00            1\n",
       "30  2016-01-01 00:15:00            1\n",
       "85  2016-01-01 00:30:00            2\n",
       "141 2016-01-01 00:45:00            1\n",
       "211 2016-01-01 01:00:00            1"
      ]
     },
     "execution_count": 14,
     "metadata": {},
     "output_type": "execute_result"
    }
   ],
   "source": [
    "df[(df['drp_dtm'] >= datetime(2016,1,1)) & (df['drp_dtm'] < datetime(2016,6,1)) & (df['drp_loc'] == '-73.94_40.83')][['drp_dtm','trips_count']].head()"
   ]
  },
  {
   "cell_type": "code",
   "execution_count": 128,
   "metadata": {},
   "outputs": [],
   "source": [
    "# Function to train Prophet model for the given location.\n",
    "# Returns the trained model\n",
    "def train_for(a_drp_loc):    \n",
    "    pf = df[(df['drp_dtm'] >= datetime(2016,1,1)) & (df['drp_dtm'] < datetime(2016,6,1)) & (df['drp_loc'] == a_drp_loc)][['drp_dtm','trips_count']]\n",
    "    pf = pf.rename({'drp_dtm':'ds', 'trips_count':'y'},axis=1)\n",
    "    pf['cap'] = 25 # We set 25 as the maximum number of trips possible in that time slot in that location\n",
    "    m = Prophet(growth='logistic')\n",
    "    m.fit(pf)\n",
    "    return m"
   ]
  },
  {
   "cell_type": "code",
   "execution_count": 129,
   "metadata": {},
   "outputs": [
    {
     "name": "stderr",
     "output_type": "stream",
     "text": [
      "INFO:fbprophet.forecaster:Disabling yearly seasonality. Run prophet with yearly_seasonality=True to override this.\n"
     ]
    },
    {
     "name": "stdout",
     "output_type": "stream",
     "text": [
      "Training: 1 k=-73.78_40.64\n"
     ]
    },
    {
     "name": "stderr",
     "output_type": "stream",
     "text": [
      "/anaconda3/lib/python3.6/site-packages/pystan/misc.py:399: FutureWarning: Conversion of the second argument of issubdtype from `float` to `np.floating` is deprecated. In future, it will be treated as `np.float64 == np.dtype(float).type`.\n",
      "  elif np.issubdtype(np.asarray(v).dtype, float):\n",
      "INFO:fbprophet.forecaster:Disabling yearly seasonality. Run prophet with yearly_seasonality=True to override this.\n"
     ]
    },
    {
     "name": "stdout",
     "output_type": "stream",
     "text": [
      "Training: 2 k=-73.78_40.65\n"
     ]
    },
    {
     "name": "stderr",
     "output_type": "stream",
     "text": [
      "INFO:fbprophet.forecaster:Disabling yearly seasonality. Run prophet with yearly_seasonality=True to override this.\n"
     ]
    },
    {
     "name": "stdout",
     "output_type": "stream",
     "text": [
      "Training: 3 k=-73.79_40.64\n"
     ]
    },
    {
     "name": "stderr",
     "output_type": "stream",
     "text": [
      "INFO:fbprophet.forecaster:Disabling yearly seasonality. Run prophet with yearly_seasonality=True to override this.\n"
     ]
    },
    {
     "name": "stdout",
     "output_type": "stream",
     "text": [
      "Training: 4 k=-73.79_40.65\n",
      "Training: 5 k=-73.86_40.77\n"
     ]
    },
    {
     "name": "stderr",
     "output_type": "stream",
     "text": [
      "INFO:fbprophet.forecaster:Disabling yearly seasonality. Run prophet with yearly_seasonality=True to override this.\n",
      "INFO:fbprophet.forecaster:Disabling yearly seasonality. Run prophet with yearly_seasonality=True to override this.\n"
     ]
    },
    {
     "name": "stdout",
     "output_type": "stream",
     "text": [
      "Training: 6 k=-73.87_40.77\n"
     ]
    },
    {
     "name": "stderr",
     "output_type": "stream",
     "text": [
      "INFO:fbprophet.forecaster:Disabling yearly seasonality. Run prophet with yearly_seasonality=True to override this.\n"
     ]
    },
    {
     "name": "stdout",
     "output_type": "stream",
     "text": [
      "Training: 7 k=-73.89_40.75\n"
     ]
    },
    {
     "name": "stderr",
     "output_type": "stream",
     "text": [
      "INFO:fbprophet.forecaster:Disabling yearly seasonality. Run prophet with yearly_seasonality=True to override this.\n"
     ]
    },
    {
     "name": "stdout",
     "output_type": "stream",
     "text": [
      "Training: 8 k=-73.91_40.76\n"
     ]
    },
    {
     "name": "stderr",
     "output_type": "stream",
     "text": [
      "INFO:fbprophet.forecaster:Disabling yearly seasonality. Run prophet with yearly_seasonality=True to override this.\n"
     ]
    },
    {
     "name": "stdout",
     "output_type": "stream",
     "text": [
      "Training: 9 k=-73.91_40.77\n"
     ]
    },
    {
     "name": "stderr",
     "output_type": "stream",
     "text": [
      "INFO:fbprophet.forecaster:Disabling yearly seasonality. Run prophet with yearly_seasonality=True to override this.\n"
     ]
    },
    {
     "name": "stdout",
     "output_type": "stream",
     "text": [
      "Training: 10 k=-73.92_40.74\n"
     ]
    },
    {
     "name": "stderr",
     "output_type": "stream",
     "text": [
      "INFO:fbprophet.forecaster:Disabling yearly seasonality. Run prophet with yearly_seasonality=True to override this.\n"
     ]
    },
    {
     "name": "stdout",
     "output_type": "stream",
     "text": [
      "Training: 11 k=-73.92_40.76\n"
     ]
    },
    {
     "name": "stderr",
     "output_type": "stream",
     "text": [
      "INFO:fbprophet.forecaster:Disabling yearly seasonality. Run prophet with yearly_seasonality=True to override this.\n"
     ]
    },
    {
     "name": "stdout",
     "output_type": "stream",
     "text": [
      "Training: 12 k=-73.92_40.77\n"
     ]
    },
    {
     "name": "stderr",
     "output_type": "stream",
     "text": [
      "INFO:fbprophet.forecaster:Disabling yearly seasonality. Run prophet with yearly_seasonality=True to override this.\n"
     ]
    },
    {
     "name": "stdout",
     "output_type": "stream",
     "text": [
      "Training: 13 k=-73.93_40.7\n"
     ]
    },
    {
     "name": "stderr",
     "output_type": "stream",
     "text": [
      "INFO:fbprophet.forecaster:Disabling yearly seasonality. Run prophet with yearly_seasonality=True to override this.\n"
     ]
    },
    {
     "name": "stdout",
     "output_type": "stream",
     "text": [
      "Training: 14 k=-73.93_40.76\n"
     ]
    },
    {
     "name": "stderr",
     "output_type": "stream",
     "text": [
      "INFO:fbprophet.forecaster:Disabling yearly seasonality. Run prophet with yearly_seasonality=True to override this.\n",
      "INFO:fbprophet.forecaster:Disabling yearly seasonality. Run prophet with yearly_seasonality=True to override this.\n"
     ]
    },
    {
     "name": "stdout",
     "output_type": "stream",
     "text": [
      "Training: 15 k=-73.93_40.77\n",
      "Training: 16 k=-73.93_40.8\n"
     ]
    },
    {
     "name": "stderr",
     "output_type": "stream",
     "text": [
      "INFO:fbprophet.forecaster:Disabling yearly seasonality. Run prophet with yearly_seasonality=True to override this.\n"
     ]
    },
    {
     "name": "stdout",
     "output_type": "stream",
     "text": [
      "Training: 17 k=-73.94_40.71\n"
     ]
    },
    {
     "name": "stderr",
     "output_type": "stream",
     "text": [
      "INFO:fbprophet.forecaster:Disabling yearly seasonality. Run prophet with yearly_seasonality=True to override this.\n",
      "INFO:fbprophet.forecaster:Disabling yearly seasonality. Run prophet with yearly_seasonality=True to override this.\n"
     ]
    },
    {
     "name": "stdout",
     "output_type": "stream",
     "text": [
      "Training: 18 k=-73.94_40.72\n",
      "Training: 19 k=-73.94_40.75\n"
     ]
    },
    {
     "name": "stderr",
     "output_type": "stream",
     "text": [
      "INFO:fbprophet.forecaster:Disabling yearly seasonality. Run prophet with yearly_seasonality=True to override this.\n"
     ]
    },
    {
     "name": "stdout",
     "output_type": "stream",
     "text": [
      "Training: 20 k=-73.94_40.78\n"
     ]
    },
    {
     "name": "stderr",
     "output_type": "stream",
     "text": [
      "INFO:fbprophet.forecaster:Disabling yearly seasonality. Run prophet with yearly_seasonality=True to override this.\n"
     ]
    },
    {
     "name": "stdout",
     "output_type": "stream",
     "text": [
      "Training: 21 k=-73.94_40.79\n"
     ]
    },
    {
     "name": "stderr",
     "output_type": "stream",
     "text": [
      "INFO:fbprophet.forecaster:Disabling yearly seasonality. Run prophet with yearly_seasonality=True to override this.\n"
     ]
    },
    {
     "name": "stdout",
     "output_type": "stream",
     "text": [
      "Training: 22 k=-73.94_40.8\n"
     ]
    },
    {
     "name": "stderr",
     "output_type": "stream",
     "text": [
      "INFO:fbprophet.forecaster:Disabling yearly seasonality. Run prophet with yearly_seasonality=True to override this.\n"
     ]
    },
    {
     "name": "stdout",
     "output_type": "stream",
     "text": [
      "Training: 23 k=-73.94_40.81\n"
     ]
    },
    {
     "name": "stderr",
     "output_type": "stream",
     "text": [
      "INFO:fbprophet.forecaster:Disabling yearly seasonality. Run prophet with yearly_seasonality=True to override this.\n"
     ]
    },
    {
     "name": "stdout",
     "output_type": "stream",
     "text": [
      "Training: 24 k=-73.94_40.82\n"
     ]
    },
    {
     "name": "stderr",
     "output_type": "stream",
     "text": [
      "INFO:fbprophet.forecaster:Disabling yearly seasonality. Run prophet with yearly_seasonality=True to override this.\n"
     ]
    },
    {
     "name": "stdout",
     "output_type": "stream",
     "text": [
      "Training: 25 k=-73.94_40.83\n"
     ]
    },
    {
     "name": "stderr",
     "output_type": "stream",
     "text": [
      "INFO:fbprophet.forecaster:Disabling yearly seasonality. Run prophet with yearly_seasonality=True to override this.\n"
     ]
    },
    {
     "name": "stdout",
     "output_type": "stream",
     "text": [
      "Training: 26 k=-73.94_40.84\n"
     ]
    },
    {
     "name": "stderr",
     "output_type": "stream",
     "text": [
      "INFO:fbprophet.forecaster:Disabling yearly seasonality. Run prophet with yearly_seasonality=True to override this.\n"
     ]
    },
    {
     "name": "stdout",
     "output_type": "stream",
     "text": [
      "Training: 27 k=-73.94_40.85\n"
     ]
    },
    {
     "name": "stderr",
     "output_type": "stream",
     "text": [
      "INFO:fbprophet.forecaster:Disabling yearly seasonality. Run prophet with yearly_seasonality=True to override this.\n"
     ]
    },
    {
     "name": "stdout",
     "output_type": "stream",
     "text": [
      "Training: 28 k=-73.95_40.68\n"
     ]
    },
    {
     "name": "stderr",
     "output_type": "stream",
     "text": [
      "INFO:fbprophet.forecaster:Disabling yearly seasonality. Run prophet with yearly_seasonality=True to override this.\n"
     ]
    },
    {
     "name": "stdout",
     "output_type": "stream",
     "text": [
      "Training: 29 k=-73.95_40.69\n"
     ]
    },
    {
     "name": "stderr",
     "output_type": "stream",
     "text": [
      "INFO:fbprophet.forecaster:Disabling yearly seasonality. Run prophet with yearly_seasonality=True to override this.\n",
      "INFO:fbprophet.forecaster:Disabling yearly seasonality. Run prophet with yearly_seasonality=True to override this.\n"
     ]
    },
    {
     "name": "stdout",
     "output_type": "stream",
     "text": [
      "Training: 30 k=-73.95_40.71\n",
      "Training: 31 k=-73.95_40.72\n"
     ]
    },
    {
     "name": "stderr",
     "output_type": "stream",
     "text": [
      "INFO:fbprophet.forecaster:Disabling yearly seasonality. Run prophet with yearly_seasonality=True to override this.\n"
     ]
    },
    {
     "name": "stdout",
     "output_type": "stream",
     "text": [
      "Training: 32 k=-73.95_40.73\n"
     ]
    },
    {
     "name": "stderr",
     "output_type": "stream",
     "text": [
      "INFO:fbprophet.forecaster:Disabling yearly seasonality. Run prophet with yearly_seasonality=True to override this.\n"
     ]
    },
    {
     "name": "stdout",
     "output_type": "stream",
     "text": [
      "Training: 33 k=-73.95_40.75\n"
     ]
    },
    {
     "name": "stderr",
     "output_type": "stream",
     "text": [
      "INFO:fbprophet.forecaster:Disabling yearly seasonality. Run prophet with yearly_seasonality=True to override this.\n"
     ]
    },
    {
     "name": "stdout",
     "output_type": "stream",
     "text": [
      "Training: 34 k=-73.95_40.76\n"
     ]
    },
    {
     "name": "stderr",
     "output_type": "stream",
     "text": [
      "INFO:fbprophet.forecaster:Disabling yearly seasonality. Run prophet with yearly_seasonality=True to override this.\n"
     ]
    },
    {
     "name": "stdout",
     "output_type": "stream",
     "text": [
      "Training: 35 k=-73.95_40.77\n"
     ]
    },
    {
     "name": "stderr",
     "output_type": "stream",
     "text": [
      "INFO:fbprophet.forecaster:Disabling yearly seasonality. Run prophet with yearly_seasonality=True to override this.\n"
     ]
    },
    {
     "name": "stdout",
     "output_type": "stream",
     "text": [
      "Training: 36 k=-73.95_40.78\n"
     ]
    },
    {
     "name": "stderr",
     "output_type": "stream",
     "text": [
      "INFO:fbprophet.forecaster:Disabling yearly seasonality. Run prophet with yearly_seasonality=True to override this.\n"
     ]
    },
    {
     "name": "stdout",
     "output_type": "stream",
     "text": [
      "Training: 37 k=-73.95_40.79\n"
     ]
    },
    {
     "name": "stderr",
     "output_type": "stream",
     "text": [
      "INFO:fbprophet.forecaster:Disabling yearly seasonality. Run prophet with yearly_seasonality=True to override this.\n"
     ]
    },
    {
     "name": "stdout",
     "output_type": "stream",
     "text": [
      "Training: 38 k=-73.95_40.8\n"
     ]
    },
    {
     "name": "stderr",
     "output_type": "stream",
     "text": [
      "INFO:fbprophet.forecaster:Disabling yearly seasonality. Run prophet with yearly_seasonality=True to override this.\n"
     ]
    },
    {
     "name": "stdout",
     "output_type": "stream",
     "text": [
      "Training: 39 k=-73.95_40.81\n"
     ]
    },
    {
     "name": "stderr",
     "output_type": "stream",
     "text": [
      "INFO:fbprophet.forecaster:Disabling yearly seasonality. Run prophet with yearly_seasonality=True to override this.\n"
     ]
    },
    {
     "name": "stdout",
     "output_type": "stream",
     "text": [
      "Training: 40 k=-73.95_40.82\n"
     ]
    },
    {
     "name": "stderr",
     "output_type": "stream",
     "text": [
      "INFO:fbprophet.forecaster:Disabling yearly seasonality. Run prophet with yearly_seasonality=True to override this.\n"
     ]
    },
    {
     "name": "stdout",
     "output_type": "stream",
     "text": [
      "Training: 41 k=-73.95_40.83\n"
     ]
    },
    {
     "name": "stderr",
     "output_type": "stream",
     "text": [
      "INFO:fbprophet.forecaster:Disabling yearly seasonality. Run prophet with yearly_seasonality=True to override this.\n"
     ]
    },
    {
     "name": "stdout",
     "output_type": "stream",
     "text": [
      "Training: 42 k=-73.96_40.67\n",
      "Training: 43 k=-73.96_40.68\n"
     ]
    },
    {
     "name": "stderr",
     "output_type": "stream",
     "text": [
      "INFO:fbprophet.forecaster:Disabling yearly seasonality. Run prophet with yearly_seasonality=True to override this.\n",
      "INFO:fbprophet.forecaster:Disabling yearly seasonality. Run prophet with yearly_seasonality=True to override this.\n"
     ]
    },
    {
     "name": "stdout",
     "output_type": "stream",
     "text": [
      "Training: 44 k=-73.96_40.69\n"
     ]
    },
    {
     "name": "stderr",
     "output_type": "stream",
     "text": [
      "INFO:fbprophet.forecaster:Disabling yearly seasonality. Run prophet with yearly_seasonality=True to override this.\n"
     ]
    },
    {
     "name": "stdout",
     "output_type": "stream",
     "text": [
      "Training: 45 k=-73.96_40.71\n"
     ]
    },
    {
     "name": "stderr",
     "output_type": "stream",
     "text": [
      "INFO:fbprophet.forecaster:Disabling yearly seasonality. Run prophet with yearly_seasonality=True to override this.\n"
     ]
    },
    {
     "name": "stdout",
     "output_type": "stream",
     "text": [
      "Training: 46 k=-73.96_40.72\n"
     ]
    },
    {
     "name": "stderr",
     "output_type": "stream",
     "text": [
      "INFO:fbprophet.forecaster:Disabling yearly seasonality. Run prophet with yearly_seasonality=True to override this.\n"
     ]
    },
    {
     "name": "stdout",
     "output_type": "stream",
     "text": [
      "Training: 47 k=-73.96_40.73\n",
      "Training: 48 k=-73.96_40.75\n"
     ]
    },
    {
     "name": "stderr",
     "output_type": "stream",
     "text": [
      "INFO:fbprophet.forecaster:Disabling yearly seasonality. Run prophet with yearly_seasonality=True to override this.\n",
      "INFO:fbprophet.forecaster:Disabling yearly seasonality. Run prophet with yearly_seasonality=True to override this.\n"
     ]
    },
    {
     "name": "stdout",
     "output_type": "stream",
     "text": [
      "Training: 49 k=-73.96_40.76\n"
     ]
    },
    {
     "name": "stderr",
     "output_type": "stream",
     "text": [
      "INFO:fbprophet.forecaster:Disabling yearly seasonality. Run prophet with yearly_seasonality=True to override this.\n"
     ]
    },
    {
     "name": "stdout",
     "output_type": "stream",
     "text": [
      "Training: 50 k=-73.96_40.77\n"
     ]
    },
    {
     "name": "stderr",
     "output_type": "stream",
     "text": [
      "INFO:fbprophet.forecaster:Disabling yearly seasonality. Run prophet with yearly_seasonality=True to override this.\n"
     ]
    },
    {
     "name": "stdout",
     "output_type": "stream",
     "text": [
      "Training: 51 k=-73.96_40.78\n"
     ]
    },
    {
     "name": "stderr",
     "output_type": "stream",
     "text": [
      "INFO:fbprophet.forecaster:Disabling yearly seasonality. Run prophet with yearly_seasonality=True to override this.\n"
     ]
    },
    {
     "name": "stdout",
     "output_type": "stream",
     "text": [
      "Training: 52 k=-73.96_40.79\n"
     ]
    },
    {
     "name": "stderr",
     "output_type": "stream",
     "text": [
      "INFO:fbprophet.forecaster:Disabling yearly seasonality. Run prophet with yearly_seasonality=True to override this.\n"
     ]
    },
    {
     "name": "stdout",
     "output_type": "stream",
     "text": [
      "Training: 53 k=-73.96_40.8\n"
     ]
    },
    {
     "name": "stderr",
     "output_type": "stream",
     "text": [
      "INFO:fbprophet.forecaster:Disabling yearly seasonality. Run prophet with yearly_seasonality=True to override this.\n"
     ]
    },
    {
     "name": "stdout",
     "output_type": "stream",
     "text": [
      "Training: 54 k=-73.96_40.81\n"
     ]
    },
    {
     "name": "stderr",
     "output_type": "stream",
     "text": [
      "INFO:fbprophet.forecaster:Disabling yearly seasonality. Run prophet with yearly_seasonality=True to override this.\n"
     ]
    },
    {
     "name": "stdout",
     "output_type": "stream",
     "text": [
      "Training: 55 k=-73.96_40.82\n"
     ]
    },
    {
     "name": "stderr",
     "output_type": "stream",
     "text": [
      "INFO:fbprophet.forecaster:Disabling yearly seasonality. Run prophet with yearly_seasonality=True to override this.\n"
     ]
    },
    {
     "name": "stdout",
     "output_type": "stream",
     "text": [
      "Training: 56 k=-73.97_40.68\n"
     ]
    },
    {
     "name": "stderr",
     "output_type": "stream",
     "text": [
      "INFO:fbprophet.forecaster:Disabling yearly seasonality. Run prophet with yearly_seasonality=True to override this.\n",
      "INFO:fbprophet.forecaster:Disabling yearly seasonality. Run prophet with yearly_seasonality=True to override this.\n"
     ]
    },
    {
     "name": "stdout",
     "output_type": "stream",
     "text": [
      "Training: 57 k=-73.97_40.69\n",
      "Training: 58 k=-73.97_40.71\n"
     ]
    },
    {
     "name": "stderr",
     "output_type": "stream",
     "text": [
      "INFO:fbprophet.forecaster:Disabling yearly seasonality. Run prophet with yearly_seasonality=True to override this.\n"
     ]
    },
    {
     "name": "stdout",
     "output_type": "stream",
     "text": [
      "Training: 59 k=-73.97_40.74\n"
     ]
    },
    {
     "name": "stderr",
     "output_type": "stream",
     "text": [
      "INFO:fbprophet.forecaster:Disabling yearly seasonality. Run prophet with yearly_seasonality=True to override this.\n"
     ]
    },
    {
     "name": "stdout",
     "output_type": "stream",
     "text": [
      "Training: 60 k=-73.97_40.75\n"
     ]
    },
    {
     "name": "stderr",
     "output_type": "stream",
     "text": [
      "INFO:fbprophet.forecaster:Disabling yearly seasonality. Run prophet with yearly_seasonality=True to override this.\n"
     ]
    },
    {
     "name": "stdout",
     "output_type": "stream",
     "text": [
      "Training: 61 k=-73.97_40.76\n"
     ]
    },
    {
     "name": "stderr",
     "output_type": "stream",
     "text": [
      "INFO:fbprophet.forecaster:Disabling yearly seasonality. Run prophet with yearly_seasonality=True to override this.\n"
     ]
    },
    {
     "name": "stdout",
     "output_type": "stream",
     "text": [
      "Training: 62 k=-73.97_40.77\n"
     ]
    },
    {
     "name": "stderr",
     "output_type": "stream",
     "text": [
      "INFO:fbprophet.forecaster:Disabling yearly seasonality. Run prophet with yearly_seasonality=True to override this.\n"
     ]
    },
    {
     "name": "stdout",
     "output_type": "stream",
     "text": [
      "Training: 63 k=-73.97_40.78\n"
     ]
    },
    {
     "name": "stderr",
     "output_type": "stream",
     "text": [
      "INFO:fbprophet.forecaster:Disabling yearly seasonality. Run prophet with yearly_seasonality=True to override this.\n"
     ]
    },
    {
     "name": "stdout",
     "output_type": "stream",
     "text": [
      "Training: 64 k=-73.97_40.79\n"
     ]
    },
    {
     "name": "stderr",
     "output_type": "stream",
     "text": [
      "INFO:fbprophet.forecaster:Disabling yearly seasonality. Run prophet with yearly_seasonality=True to override this.\n"
     ]
    },
    {
     "name": "stdout",
     "output_type": "stream",
     "text": [
      "Training: 65 k=-73.97_40.8\n"
     ]
    },
    {
     "name": "stderr",
     "output_type": "stream",
     "text": [
      "INFO:fbprophet.forecaster:Disabling yearly seasonality. Run prophet with yearly_seasonality=True to override this.\n"
     ]
    },
    {
     "name": "stdout",
     "output_type": "stream",
     "text": [
      "Training: 66 k=-73.97_40.81\n",
      "Training: 67 k=-73.98_40.67\n"
     ]
    },
    {
     "name": "stderr",
     "output_type": "stream",
     "text": [
      "INFO:fbprophet.forecaster:Disabling yearly seasonality. Run prophet with yearly_seasonality=True to override this.\n",
      "INFO:fbprophet.forecaster:Disabling yearly seasonality. Run prophet with yearly_seasonality=True to override this.\n"
     ]
    },
    {
     "name": "stdout",
     "output_type": "stream",
     "text": [
      "Training: 68 k=-73.98_40.68\n"
     ]
    },
    {
     "name": "stderr",
     "output_type": "stream",
     "text": [
      "INFO:fbprophet.forecaster:Disabling yearly seasonality. Run prophet with yearly_seasonality=True to override this.\n"
     ]
    },
    {
     "name": "stdout",
     "output_type": "stream",
     "text": [
      "Training: 69 k=-73.98_40.69\n"
     ]
    },
    {
     "name": "stderr",
     "output_type": "stream",
     "text": [
      "INFO:fbprophet.forecaster:Disabling yearly seasonality. Run prophet with yearly_seasonality=True to override this.\n"
     ]
    },
    {
     "name": "stdout",
     "output_type": "stream",
     "text": [
      "Training: 70 k=-73.98_40.7\n"
     ]
    },
    {
     "name": "stderr",
     "output_type": "stream",
     "text": [
      "INFO:fbprophet.forecaster:Disabling yearly seasonality. Run prophet with yearly_seasonality=True to override this.\n"
     ]
    },
    {
     "name": "stdout",
     "output_type": "stream",
     "text": [
      "Training: 71 k=-73.98_40.71\n"
     ]
    },
    {
     "name": "stderr",
     "output_type": "stream",
     "text": [
      "INFO:fbprophet.forecaster:Disabling yearly seasonality. Run prophet with yearly_seasonality=True to override this.\n"
     ]
    },
    {
     "name": "stdout",
     "output_type": "stream",
     "text": [
      "Training: 72 k=-73.98_40.72\n"
     ]
    },
    {
     "name": "stderr",
     "output_type": "stream",
     "text": [
      "INFO:fbprophet.forecaster:Disabling yearly seasonality. Run prophet with yearly_seasonality=True to override this.\n",
      "INFO:fbprophet.forecaster:Disabling yearly seasonality. Run prophet with yearly_seasonality=True to override this.\n"
     ]
    },
    {
     "name": "stdout",
     "output_type": "stream",
     "text": [
      "Training: 73 k=-73.98_40.73\n",
      "Training: 74 k=-73.98_40.74\n"
     ]
    },
    {
     "name": "stderr",
     "output_type": "stream",
     "text": [
      "INFO:fbprophet.forecaster:Disabling yearly seasonality. Run prophet with yearly_seasonality=True to override this.\n"
     ]
    },
    {
     "name": "stdout",
     "output_type": "stream",
     "text": [
      "Training: 75 k=-73.98_40.75\n"
     ]
    },
    {
     "name": "stderr",
     "output_type": "stream",
     "text": [
      "INFO:fbprophet.forecaster:Disabling yearly seasonality. Run prophet with yearly_seasonality=True to override this.\n"
     ]
    },
    {
     "name": "stdout",
     "output_type": "stream",
     "text": [
      "Training: 76 k=-73.98_40.76\n"
     ]
    },
    {
     "name": "stderr",
     "output_type": "stream",
     "text": [
      "INFO:fbprophet.forecaster:Disabling yearly seasonality. Run prophet with yearly_seasonality=True to override this.\n"
     ]
    },
    {
     "name": "stdout",
     "output_type": "stream",
     "text": [
      "Training: 77 k=-73.98_40.77\n"
     ]
    },
    {
     "name": "stderr",
     "output_type": "stream",
     "text": [
      "INFO:fbprophet.forecaster:Disabling yearly seasonality. Run prophet with yearly_seasonality=True to override this.\n"
     ]
    },
    {
     "name": "stdout",
     "output_type": "stream",
     "text": [
      "Training: 78 k=-73.98_40.78\n"
     ]
    },
    {
     "name": "stderr",
     "output_type": "stream",
     "text": [
      "INFO:fbprophet.forecaster:Disabling yearly seasonality. Run prophet with yearly_seasonality=True to override this.\n"
     ]
    },
    {
     "name": "stdout",
     "output_type": "stream",
     "text": [
      "Training: 79 k=-73.98_40.79\n"
     ]
    },
    {
     "name": "stderr",
     "output_type": "stream",
     "text": [
      "INFO:fbprophet.forecaster:Disabling yearly seasonality. Run prophet with yearly_seasonality=True to override this.\n",
      "INFO:fbprophet.forecaster:Disabling yearly seasonality. Run prophet with yearly_seasonality=True to override this.\n"
     ]
    },
    {
     "name": "stdout",
     "output_type": "stream",
     "text": [
      "Training: 80 k=-73.99_40.67\n",
      "Training: 81 k=-73.99_40.68\n"
     ]
    },
    {
     "name": "stderr",
     "output_type": "stream",
     "text": [
      "INFO:fbprophet.forecaster:Disabling yearly seasonality. Run prophet with yearly_seasonality=True to override this.\n"
     ]
    },
    {
     "name": "stdout",
     "output_type": "stream",
     "text": [
      "Training: 82 k=-73.99_40.69\n"
     ]
    },
    {
     "name": "stderr",
     "output_type": "stream",
     "text": [
      "INFO:fbprophet.forecaster:Disabling yearly seasonality. Run prophet with yearly_seasonality=True to override this.\n"
     ]
    },
    {
     "name": "stdout",
     "output_type": "stream",
     "text": [
      "Training: 83 k=-73.99_40.7\n"
     ]
    },
    {
     "name": "stderr",
     "output_type": "stream",
     "text": [
      "INFO:fbprophet.forecaster:Disabling yearly seasonality. Run prophet with yearly_seasonality=True to override this.\n"
     ]
    },
    {
     "name": "stdout",
     "output_type": "stream",
     "text": [
      "Training: 84 k=-73.99_40.71\n"
     ]
    },
    {
     "name": "stderr",
     "output_type": "stream",
     "text": [
      "INFO:fbprophet.forecaster:Disabling yearly seasonality. Run prophet with yearly_seasonality=True to override this.\n"
     ]
    },
    {
     "name": "stdout",
     "output_type": "stream",
     "text": [
      "Training: 85 k=-73.99_40.72\n"
     ]
    },
    {
     "name": "stderr",
     "output_type": "stream",
     "text": [
      "INFO:fbprophet.forecaster:Disabling yearly seasonality. Run prophet with yearly_seasonality=True to override this.\n"
     ]
    },
    {
     "name": "stdout",
     "output_type": "stream",
     "text": [
      "Training: 86 k=-73.99_40.73\n"
     ]
    },
    {
     "name": "stderr",
     "output_type": "stream",
     "text": [
      "INFO:fbprophet.forecaster:Disabling yearly seasonality. Run prophet with yearly_seasonality=True to override this.\n"
     ]
    },
    {
     "name": "stdout",
     "output_type": "stream",
     "text": [
      "Training: 87 k=-73.99_40.74\n"
     ]
    },
    {
     "name": "stderr",
     "output_type": "stream",
     "text": [
      "INFO:fbprophet.forecaster:Disabling yearly seasonality. Run prophet with yearly_seasonality=True to override this.\n"
     ]
    },
    {
     "name": "stdout",
     "output_type": "stream",
     "text": [
      "Training: 88 k=-73.99_40.75\n"
     ]
    },
    {
     "name": "stderr",
     "output_type": "stream",
     "text": [
      "INFO:fbprophet.forecaster:Disabling yearly seasonality. Run prophet with yearly_seasonality=True to override this.\n"
     ]
    },
    {
     "name": "stdout",
     "output_type": "stream",
     "text": [
      "Training: 89 k=-73.99_40.76\n"
     ]
    },
    {
     "name": "stderr",
     "output_type": "stream",
     "text": [
      "INFO:fbprophet.forecaster:Disabling yearly seasonality. Run prophet with yearly_seasonality=True to override this.\n"
     ]
    },
    {
     "name": "stdout",
     "output_type": "stream",
     "text": [
      "Training: 90 k=-73.99_40.77\n"
     ]
    },
    {
     "name": "stderr",
     "output_type": "stream",
     "text": [
      "INFO:fbprophet.forecaster:Disabling yearly seasonality. Run prophet with yearly_seasonality=True to override this.\n",
      "INFO:fbprophet.forecaster:Disabling yearly seasonality. Run prophet with yearly_seasonality=True to override this.\n"
     ]
    },
    {
     "name": "stdout",
     "output_type": "stream",
     "text": [
      "Training: 91 k=-73.99_40.78\n",
      "Training: 92 k=-74.01_40.7\n"
     ]
    },
    {
     "name": "stderr",
     "output_type": "stream",
     "text": [
      "INFO:fbprophet.forecaster:Disabling yearly seasonality. Run prophet with yearly_seasonality=True to override this.\n"
     ]
    },
    {
     "name": "stdout",
     "output_type": "stream",
     "text": [
      "Training: 93 k=-74.01_40.71\n"
     ]
    },
    {
     "name": "stderr",
     "output_type": "stream",
     "text": [
      "INFO:fbprophet.forecaster:Disabling yearly seasonality. Run prophet with yearly_seasonality=True to override this.\n"
     ]
    },
    {
     "name": "stdout",
     "output_type": "stream",
     "text": [
      "Training: 94 k=-74.01_40.72\n"
     ]
    },
    {
     "name": "stderr",
     "output_type": "stream",
     "text": [
      "INFO:fbprophet.forecaster:Disabling yearly seasonality. Run prophet with yearly_seasonality=True to override this.\n"
     ]
    },
    {
     "name": "stdout",
     "output_type": "stream",
     "text": [
      "Training: 95 k=-74.01_40.73\n"
     ]
    },
    {
     "name": "stderr",
     "output_type": "stream",
     "text": [
      "INFO:fbprophet.forecaster:Disabling yearly seasonality. Run prophet with yearly_seasonality=True to override this.\n"
     ]
    },
    {
     "name": "stdout",
     "output_type": "stream",
     "text": [
      "Training: 96 k=-74.01_40.74\n"
     ]
    },
    {
     "name": "stderr",
     "output_type": "stream",
     "text": [
      "INFO:fbprophet.forecaster:Disabling yearly seasonality. Run prophet with yearly_seasonality=True to override this.\n"
     ]
    },
    {
     "name": "stdout",
     "output_type": "stream",
     "text": [
      "Training: 97 k=-74.01_40.75\n"
     ]
    },
    {
     "name": "stderr",
     "output_type": "stream",
     "text": [
      "INFO:fbprophet.forecaster:Disabling yearly seasonality. Run prophet with yearly_seasonality=True to override this.\n",
      "INFO:fbprophet.forecaster:Disabling yearly seasonality. Run prophet with yearly_seasonality=True to override this.\n"
     ]
    },
    {
     "name": "stdout",
     "output_type": "stream",
     "text": [
      "Training: 98 k=-74.02_40.7\n",
      "Training: 99 k=-74.02_40.71\n"
     ]
    },
    {
     "name": "stderr",
     "output_type": "stream",
     "text": [
      "INFO:fbprophet.forecaster:Disabling yearly seasonality. Run prophet with yearly_seasonality=True to override this.\n"
     ]
    },
    {
     "name": "stdout",
     "output_type": "stream",
     "text": [
      "Training: 100 k=-74.02_40.72\n",
      "Training: 101 k=-74.0_40.68\n"
     ]
    },
    {
     "name": "stderr",
     "output_type": "stream",
     "text": [
      "INFO:fbprophet.forecaster:Disabling yearly seasonality. Run prophet with yearly_seasonality=True to override this.\n",
      "INFO:fbprophet.forecaster:Disabling yearly seasonality. Run prophet with yearly_seasonality=True to override this.\n"
     ]
    },
    {
     "name": "stdout",
     "output_type": "stream",
     "text": [
      "Training: 102 k=-74.0_40.69\n"
     ]
    },
    {
     "name": "stderr",
     "output_type": "stream",
     "text": [
      "INFO:fbprophet.forecaster:Disabling yearly seasonality. Run prophet with yearly_seasonality=True to override this.\n"
     ]
    },
    {
     "name": "stdout",
     "output_type": "stream",
     "text": [
      "Training: 103 k=-74.0_40.71\n"
     ]
    },
    {
     "name": "stderr",
     "output_type": "stream",
     "text": [
      "INFO:fbprophet.forecaster:Disabling yearly seasonality. Run prophet with yearly_seasonality=True to override this.\n"
     ]
    },
    {
     "name": "stdout",
     "output_type": "stream",
     "text": [
      "Training: 104 k=-74.0_40.72\n"
     ]
    },
    {
     "name": "stderr",
     "output_type": "stream",
     "text": [
      "INFO:fbprophet.forecaster:Disabling yearly seasonality. Run prophet with yearly_seasonality=True to override this.\n"
     ]
    },
    {
     "name": "stdout",
     "output_type": "stream",
     "text": [
      "Training: 105 k=-74.0_40.73\n"
     ]
    },
    {
     "name": "stderr",
     "output_type": "stream",
     "text": [
      "INFO:fbprophet.forecaster:Disabling yearly seasonality. Run prophet with yearly_seasonality=True to override this.\n"
     ]
    },
    {
     "name": "stdout",
     "output_type": "stream",
     "text": [
      "Training: 106 k=-74.0_40.74\n"
     ]
    },
    {
     "name": "stderr",
     "output_type": "stream",
     "text": [
      "INFO:fbprophet.forecaster:Disabling yearly seasonality. Run prophet with yearly_seasonality=True to override this.\n"
     ]
    },
    {
     "name": "stdout",
     "output_type": "stream",
     "text": [
      "Training: 107 k=-74.0_40.75\n"
     ]
    },
    {
     "name": "stderr",
     "output_type": "stream",
     "text": [
      "INFO:fbprophet.forecaster:Disabling yearly seasonality. Run prophet with yearly_seasonality=True to override this.\n"
     ]
    },
    {
     "name": "stdout",
     "output_type": "stream",
     "text": [
      "Training: 108 k=-74.0_40.76\n"
     ]
    },
    {
     "name": "stderr",
     "output_type": "stream",
     "text": [
      "INFO:fbprophet.forecaster:Disabling yearly seasonality. Run prophet with yearly_seasonality=True to override this.\n"
     ]
    },
    {
     "name": "stdout",
     "output_type": "stream",
     "text": [
      "Training: 109 k=-74.0_40.77\n"
     ]
    },
    {
     "name": "stderr",
     "output_type": "stream",
     "text": [
      "INFO:fbprophet.forecaster:Disabling yearly seasonality. Run prophet with yearly_seasonality=True to override this.\n"
     ]
    },
    {
     "name": "stdout",
     "output_type": "stream",
     "text": [
      "Training: 110 k=-74.18_40.69\n"
     ]
    }
   ],
   "source": [
    "# Train for locations that have at least 1000 trips count\n",
    "g = df.groupby('drp_loc').filter(lambda r: r['trips_count'].sum() >= 1000).groupby('drp_loc')\n",
    "models=dict()\n",
    "cnt = 0\n",
    "for k, gp in g:\n",
    "    cnt += 1\n",
    "    print ('Training: ' + str(cnt) + ' k=' + k)\n",
    "    models[k] = train_for(k)"
   ]
  },
  {
   "cell_type": "code",
   "execution_count": 130,
   "metadata": {},
   "outputs": [
    {
     "data": {
      "text/plain": [
       "{'-73.78_40.64': <fbprophet.forecaster.Prophet at 0x1c0b9f4668>,\n",
       " '-73.78_40.65': <fbprophet.forecaster.Prophet at 0x1c0b880390>,\n",
       " '-73.79_40.64': <fbprophet.forecaster.Prophet at 0x1c0ad25198>,\n",
       " '-73.79_40.65': <fbprophet.forecaster.Prophet at 0x1c0ac6bba8>,\n",
       " '-73.86_40.77': <fbprophet.forecaster.Prophet at 0x1c0b709080>,\n",
       " '-73.87_40.77': <fbprophet.forecaster.Prophet at 0x1c0d26bb70>,\n",
       " '-73.89_40.75': <fbprophet.forecaster.Prophet at 0x1c1d57fb38>,\n",
       " '-73.91_40.76': <fbprophet.forecaster.Prophet at 0x1c1d57fcc0>,\n",
       " '-73.91_40.77': <fbprophet.forecaster.Prophet at 0x1c0ad98a20>,\n",
       " '-73.92_40.74': <fbprophet.forecaster.Prophet at 0x1c1df96eb8>,\n",
       " '-73.92_40.76': <fbprophet.forecaster.Prophet at 0x1c1cf58a20>,\n",
       " '-73.92_40.77': <fbprophet.forecaster.Prophet at 0x1c0d7067f0>,\n",
       " '-73.93_40.7': <fbprophet.forecaster.Prophet at 0x1c1dfb1d68>,\n",
       " '-73.93_40.76': <fbprophet.forecaster.Prophet at 0x1c1cf58550>,\n",
       " '-73.93_40.77': <fbprophet.forecaster.Prophet at 0x1c1d41c3c8>,\n",
       " '-73.93_40.8': <fbprophet.forecaster.Prophet at 0x1c1dfb11d0>,\n",
       " '-73.94_40.71': <fbprophet.forecaster.Prophet at 0x1c0dc25358>,\n",
       " '-73.94_40.72': <fbprophet.forecaster.Prophet at 0x1c1dfb1c50>,\n",
       " '-73.94_40.75': <fbprophet.forecaster.Prophet at 0x1c1d506eb8>,\n",
       " '-73.94_40.78': <fbprophet.forecaster.Prophet at 0x1c1d41cb00>,\n",
       " '-73.94_40.79': <fbprophet.forecaster.Prophet at 0x1c1d599c18>,\n",
       " '-73.94_40.8': <fbprophet.forecaster.Prophet at 0x1c0d2849b0>,\n",
       " '-73.94_40.81': <fbprophet.forecaster.Prophet at 0x1c0b6c3e48>,\n",
       " '-73.94_40.82': <fbprophet.forecaster.Prophet at 0x1c0b6c3278>,\n",
       " '-73.94_40.83': <fbprophet.forecaster.Prophet at 0x1c1d407da0>,\n",
       " '-73.94_40.84': <fbprophet.forecaster.Prophet at 0x1c0b815710>,\n",
       " '-73.94_40.85': <fbprophet.forecaster.Prophet at 0x1c0d7a8c18>,\n",
       " '-73.95_40.68': <fbprophet.forecaster.Prophet at 0x1c0b6c3ac8>,\n",
       " '-73.95_40.69': <fbprophet.forecaster.Prophet at 0x1c0b6812e8>,\n",
       " '-73.95_40.71': <fbprophet.forecaster.Prophet at 0x1c0b6c3940>,\n",
       " '-73.95_40.72': <fbprophet.forecaster.Prophet at 0x1c0d27e390>,\n",
       " '-73.95_40.73': <fbprophet.forecaster.Prophet at 0x1c0b6793c8>,\n",
       " '-73.95_40.75': <fbprophet.forecaster.Prophet at 0x1c1cdfe630>,\n",
       " '-73.95_40.76': <fbprophet.forecaster.Prophet at 0x1c0d7a8550>,\n",
       " '-73.95_40.77': <fbprophet.forecaster.Prophet at 0x1c1d602898>,\n",
       " '-73.95_40.78': <fbprophet.forecaster.Prophet at 0x1c1cdfef98>,\n",
       " '-73.95_40.79': <fbprophet.forecaster.Prophet at 0x1c0b679400>,\n",
       " '-73.95_40.8': <fbprophet.forecaster.Prophet at 0x1c0ad2f780>,\n",
       " '-73.95_40.81': <fbprophet.forecaster.Prophet at 0x1c1cf3d470>,\n",
       " '-73.95_40.82': <fbprophet.forecaster.Prophet at 0x1c1d5ce5f8>,\n",
       " '-73.95_40.83': <fbprophet.forecaster.Prophet at 0x1c1ce63b00>,\n",
       " '-73.96_40.67': <fbprophet.forecaster.Prophet at 0x1c1ce63f60>,\n",
       " '-73.96_40.68': <fbprophet.forecaster.Prophet at 0x1c1ce63630>,\n",
       " '-73.96_40.69': <fbprophet.forecaster.Prophet at 0x1c1ce636d8>,\n",
       " '-73.96_40.71': <fbprophet.forecaster.Prophet at 0x1c1cf61cf8>,\n",
       " '-73.96_40.72': <fbprophet.forecaster.Prophet at 0x1c0d784978>,\n",
       " '-73.96_40.73': <fbprophet.forecaster.Prophet at 0x1c1d2a70f0>,\n",
       " '-73.96_40.75': <fbprophet.forecaster.Prophet at 0x1c1d41ca90>,\n",
       " '-73.96_40.76': <fbprophet.forecaster.Prophet at 0x1c0b64f0b8>,\n",
       " '-73.96_40.77': <fbprophet.forecaster.Prophet at 0x1c1ce63828>,\n",
       " '-73.96_40.78': <fbprophet.forecaster.Prophet at 0x1c0acbbd68>,\n",
       " '-73.96_40.79': <fbprophet.forecaster.Prophet at 0x1c0b6072b0>,\n",
       " '-73.96_40.8': <fbprophet.forecaster.Prophet at 0x1c1cf78be0>,\n",
       " '-73.96_40.81': <fbprophet.forecaster.Prophet at 0x1c0b6abfd0>,\n",
       " '-73.96_40.82': <fbprophet.forecaster.Prophet at 0x1c0b7d6a58>,\n",
       " '-73.97_40.68': <fbprophet.forecaster.Prophet at 0x1c0b6ab6d8>,\n",
       " '-73.97_40.69': <fbprophet.forecaster.Prophet at 0x1c0acc3e48>,\n",
       " '-73.97_40.71': <fbprophet.forecaster.Prophet at 0x1c1d579438>,\n",
       " '-73.97_40.74': <fbprophet.forecaster.Prophet at 0x1c0b6ab7f0>,\n",
       " '-73.97_40.75': <fbprophet.forecaster.Prophet at 0x1c0d70fb38>,\n",
       " '-73.97_40.76': <fbprophet.forecaster.Prophet at 0x1c0d7ce940>,\n",
       " '-73.97_40.77': <fbprophet.forecaster.Prophet at 0x1c0d77c7b8>,\n",
       " '-73.97_40.78': <fbprophet.forecaster.Prophet at 0x1c0d7ce588>,\n",
       " '-73.97_40.79': <fbprophet.forecaster.Prophet at 0x1c1d60ac88>,\n",
       " '-73.97_40.8': <fbprophet.forecaster.Prophet at 0x1c0ad1aa90>,\n",
       " '-73.97_40.81': <fbprophet.forecaster.Prophet at 0x1c0ac2d6d8>,\n",
       " '-73.98_40.67': <fbprophet.forecaster.Prophet at 0x1c0d7ce5f8>,\n",
       " '-73.98_40.68': <fbprophet.forecaster.Prophet at 0x1c0b6717b8>,\n",
       " '-73.98_40.69': <fbprophet.forecaster.Prophet at 0x1c0d717b38>,\n",
       " '-73.98_40.7': <fbprophet.forecaster.Prophet at 0x1c0ac65ba8>,\n",
       " '-73.98_40.71': <fbprophet.forecaster.Prophet at 0x1c0b692e80>,\n",
       " '-73.98_40.72': <fbprophet.forecaster.Prophet at 0x1c1cd86940>,\n",
       " '-73.98_40.73': <fbprophet.forecaster.Prophet at 0x1c1cd86710>,\n",
       " '-73.98_40.74': <fbprophet.forecaster.Prophet at 0x1c0d7b98d0>,\n",
       " '-73.98_40.75': <fbprophet.forecaster.Prophet at 0x1c0d7b9780>,\n",
       " '-73.98_40.76': <fbprophet.forecaster.Prophet at 0x1c1cf70cf8>,\n",
       " '-73.98_40.77': <fbprophet.forecaster.Prophet at 0x1c0d7b9e10>,\n",
       " '-73.98_40.78': <fbprophet.forecaster.Prophet at 0x1c1d5c32b0>,\n",
       " '-73.98_40.79': <fbprophet.forecaster.Prophet at 0x1c1d5c3828>,\n",
       " '-73.99_40.67': <fbprophet.forecaster.Prophet at 0x1c1dfc9358>,\n",
       " '-73.99_40.68': <fbprophet.forecaster.Prophet at 0x1c1d5c3630>,\n",
       " '-73.99_40.69': <fbprophet.forecaster.Prophet at 0x1c1d25f160>,\n",
       " '-73.99_40.7': <fbprophet.forecaster.Prophet at 0x1c1d25f358>,\n",
       " '-73.99_40.71': <fbprophet.forecaster.Prophet at 0x1c0abd8da0>,\n",
       " '-73.99_40.72': <fbprophet.forecaster.Prophet at 0x1c1d3ede48>,\n",
       " '-73.99_40.73': <fbprophet.forecaster.Prophet at 0x1c0dc48f98>,\n",
       " '-73.99_40.74': <fbprophet.forecaster.Prophet at 0x1c0dc48748>,\n",
       " '-73.99_40.75': <fbprophet.forecaster.Prophet at 0x1c0d798128>,\n",
       " '-73.99_40.76': <fbprophet.forecaster.Prophet at 0x1c0ad89b00>,\n",
       " '-73.99_40.77': <fbprophet.forecaster.Prophet at 0x1c0d2958d0>,\n",
       " '-73.99_40.78': <fbprophet.forecaster.Prophet at 0x1c1cdaf518>,\n",
       " '-74.01_40.7': <fbprophet.forecaster.Prophet at 0x1c1d436dd8>,\n",
       " '-74.01_40.71': <fbprophet.forecaster.Prophet at 0x1c0dc48630>,\n",
       " '-74.01_40.72': <fbprophet.forecaster.Prophet at 0x1c0d7b14e0>,\n",
       " '-74.01_40.73': <fbprophet.forecaster.Prophet at 0x1c1d4367f0>,\n",
       " '-74.01_40.74': <fbprophet.forecaster.Prophet at 0x1c0dc1c0b8>,\n",
       " '-74.01_40.75': <fbprophet.forecaster.Prophet at 0x1c0dc1cef0>,\n",
       " '-74.02_40.7': <fbprophet.forecaster.Prophet at 0x1c0d6ef860>,\n",
       " '-74.02_40.71': <fbprophet.forecaster.Prophet at 0x1c0b69b2b0>,\n",
       " '-74.02_40.72': <fbprophet.forecaster.Prophet at 0x1c1d527ba8>,\n",
       " '-74.0_40.68': <fbprophet.forecaster.Prophet at 0x1c0b69b8d0>,\n",
       " '-74.0_40.69': <fbprophet.forecaster.Prophet at 0x1c1cdb6748>,\n",
       " '-74.0_40.71': <fbprophet.forecaster.Prophet at 0x1c0b69bdd8>,\n",
       " '-74.0_40.72': <fbprophet.forecaster.Prophet at 0x1c1d5717b8>,\n",
       " '-74.0_40.73': <fbprophet.forecaster.Prophet at 0x1c1cdb6828>,\n",
       " '-74.0_40.74': <fbprophet.forecaster.Prophet at 0x1c1d3ceb70>,\n",
       " '-74.0_40.75': <fbprophet.forecaster.Prophet at 0x1c0d6efa58>,\n",
       " '-74.0_40.76': <fbprophet.forecaster.Prophet at 0x1c1cdc05c0>,\n",
       " '-74.0_40.77': <fbprophet.forecaster.Prophet at 0x1c1d5716d8>,\n",
       " '-74.18_40.69': <fbprophet.forecaster.Prophet at 0x1c0adba828>}"
      ]
     },
     "execution_count": 130,
     "metadata": {},
     "output_type": "execute_result"
    }
   ],
   "source": [
    "models"
   ]
  },
  {
   "cell_type": "markdown",
   "metadata": {},
   "source": [
    "Serialize the trained models, so that it can be used for prediction"
   ]
  },
  {
   "cell_type": "code",
   "execution_count": 131,
   "metadata": {},
   "outputs": [],
   "source": [
    "with open('./data/models.pkl','wb') as of:\n",
    "    pickle.dump(models, of)"
   ]
  },
  {
   "cell_type": "markdown",
   "metadata": {},
   "source": [
    "Create a function that reads the serialized models and can predict"
   ]
  },
  {
   "cell_type": "code",
   "execution_count": 133,
   "metadata": {},
   "outputs": [],
   "source": [
    "with open('./data/models.pkl','rb') as fi:\n",
    "    mds = pickle.load(fi)\n",
    "def predict_for(drp_loc, drp_time):\n",
    "    pdf = pd.DataFrame({'ds': [drp_time], 'cap' : 25.0})\n",
    "    try:\n",
    "        fc = mds[drp_loc].predict(pdf)\n",
    "        #print (fc)\n",
    "    except KeyError:\n",
    "        return 'Location not trained for prediction'\n",
    "    return 'Predicted trips: ' + str(int(round(fc.yhat[0],0)))"
   ]
  },
  {
   "cell_type": "code",
   "execution_count": 136,
   "metadata": {},
   "outputs": [
    {
     "data": {
      "text/plain": [
       "'Predicted trips: 3'"
      ]
     },
     "execution_count": 136,
     "metadata": {},
     "output_type": "execute_result"
    }
   ],
   "source": [
    "predict_for('-73.95_40.78',datetime(2016,6,1,0,0))"
   ]
  },
  {
   "cell_type": "markdown",
   "metadata": {},
   "source": [
    "We have created a function that predict the number of trips for a given location and time"
   ]
  },
  {
   "cell_type": "code",
   "execution_count": null,
   "metadata": {},
   "outputs": [],
   "source": []
  }
 ],
 "metadata": {
  "kernelspec": {
   "display_name": "Python 3",
   "language": "python",
   "name": "python3"
  },
  "language_info": {
   "codemirror_mode": {
    "name": "ipython",
    "version": 3
   },
   "file_extension": ".py",
   "mimetype": "text/x-python",
   "name": "python",
   "nbconvert_exporter": "python",
   "pygments_lexer": "ipython3",
   "version": "3.6.5"
  }
 },
 "nbformat": 4,
 "nbformat_minor": 2
}
