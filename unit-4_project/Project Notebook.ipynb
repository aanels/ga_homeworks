{
 "cells": [
  {
   "cell_type": "markdown",
   "metadata": {},
   "source": [
    "# Final Project for data science course at GA \n",
    "by A. Albert Nelson"
   ]
  },
  {
   "cell_type": "markdown",
   "metadata": {},
   "source": [
    "### Problem statement\n",
    "\n",
    "#### Predict how many trips will end at a given location in a given duration of time based on the past history of trips made.\n"
   ]
  },
  {
   "cell_type": "markdown",
   "metadata": {},
   "source": [
    "### Data availability\n",
    "\n",
    "New york city taxi trip data is available at  https://www.kaggle.com/c/nyc-taxi-trip-duration/data (six months), https://www.kaggle.com/kentonnlp/2014-new-york-city-taxi-trips/home (two years)\n",
    "\n",
    "Below fields are available in the data:\n",
    "\n",
    "* id - a unique identifier for each trip\n",
    "* vendor_id - a code indicating the provider associated with the trip record\n",
    "* pickup_datetime - date and time when the meter was engaged\n",
    "* dropoff_datetime - date and time when the meter was disengaged\n",
    "* passenger_count - the number of passengers in the vehicle (driver entered value)\n",
    "* pickup_longitude - the longitude where the meter was engaged\n",
    "* pickup_latitude - the latitude where the meter was engaged\n",
    "* dropoff_longitude - the longitude where the meter was disengaged\n",
    "* dropoff_latitude - the latitude where the meter was disengaged\n",
    "* store_and_fwd_flag - This flag indicates whether the trip record was held in vehicle memory before sending to the vendor because the vehicle did not have a connection to the server - Y=store and forward; N=not a store and forward trip\n",
    "* trip_duration - duration of the trip in seconds\n"
   ]
  },
  {
   "cell_type": "markdown",
   "metadata": {},
   "source": [
    "### Assumptions\n",
    "\n",
    "The data available is representative enough to allow us creation of a prediction model.\n",
    "\n"
   ]
  },
  {
   "cell_type": "markdown",
   "metadata": {},
   "source": [
    "### Goals and success metrics\n",
    "\n",
    "The success metric for this project is to get a model with an accuracy of prediction to be at least 75%\n"
   ]
  },
  {
   "cell_type": "markdown",
   "metadata": {},
   "source": [
    "### Risks and Limitations\n",
    "\n",
    "- To predict seasonal variances many years of data might be needed\n",
    "- Realtime prediction might not be possible without near past data\n",
    "- If we have trajectory of each trip, the prediction might be more accurate.\n"
   ]
  },
  {
   "cell_type": "code",
   "execution_count": null,
   "metadata": {},
   "outputs": [],
   "source": []
  }
 ],
 "metadata": {
  "kernelspec": {
   "display_name": "Python 3",
   "language": "python",
   "name": "python3"
  },
  "language_info": {
   "codemirror_mode": {
    "name": "ipython",
    "version": 3
   },
   "file_extension": ".py",
   "mimetype": "text/x-python",
   "name": "python",
   "nbconvert_exporter": "python",
   "pygments_lexer": "ipython3",
   "version": "3.6.5"
  }
 },
 "nbformat": 4,
 "nbformat_minor": 2
}
