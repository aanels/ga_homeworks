{
 "cells": [
  {
   "cell_type": "code",
   "execution_count": 35,
   "metadata": {},
   "outputs": [],
   "source": [
    "import pandas as pd"
   ]
  },
  {
   "cell_type": "code",
   "execution_count": 36,
   "metadata": {},
   "outputs": [],
   "source": [
    "# Obtain distance between two points on earth\n",
    "# https://en.wikipedia.org/wiki/Great-circle_distance\n",
    "\n",
    "# Below function gives distance in KM between to points on the earth surface identified by\n",
    "# their longitude and latitudes (from_long, from_lat) & (to_long, to_lat)\n",
    "# 0.009 of difference in x co-ordinate = 1.002 km\n",
    "# 0.009 of difference in y co-ordinate = 1.002 km\n",
    "\n",
    "from math import sin, cos, acos\n",
    "\n",
    "def get_distance(from_long, from_lat, to_long, to_lat):\n",
    "    \n",
    "    if from_long == to_long and from_lat == to_lat: \n",
    "        return 0\n",
    "    \n",
    "    v_pi             = 3.1415926; \n",
    "    v_earth_radius   = 6378; # Radius of the Earth in km    \n",
    "    v_from_x_radians = (v_pi / 180) * from_long\n",
    "    v_from_y_radians = (v_pi / 180) * from_lat\n",
    "    v_to_x_radians   = (v_pi / 180) * to_long\n",
    "    v_to_y_radians   = (v_pi / 180) * to_lat\n",
    "\n",
    "    v_distance = ((acos(sin(v_from_y_radians) * sin(v_to_y_radians) \n",
    "                       + (cos(v_from_y_radians) * cos(v_to_y_radians) *  cos(v_from_x_radians - v_to_x_radians)))) \n",
    "                  * v_earth_radius)\n",
    "    return v_distance # Unit in kilometer"
   ]
  },
  {
   "cell_type": "code",
   "execution_count": 37,
   "metadata": {},
   "outputs": [],
   "source": [
    "samples = pd.DataFrame({'x1' : [103.87025107,103.98164067,103.87103974,103.87142031,103.83267643,103.90053836,103.75231298,103.88604887,103.71431858,103.75220698],\n",
    "                       'y1' : [1.40990829,1.39068971,1.40988914,1.40987613,1.38122546,1.33713388,1.3697655,1.31583666,1.27238027,1.37009057],\n",
    "                       'x2' : [103.90387134,103.80055396,103.91431741,103.76915635,103.8434018,103.90026052,103.7511441,103.75144778,103.87127837,103.80492306],\n",
    "                       'y2':[1.30550212,1.3172479,1.40625096,1.41068858,1.28588592,1.33711493,1.37003373,1.36950056,1.40281019,1.28029987]})"
   ]
  },
  {
   "cell_type": "code",
   "execution_count": 38,
   "metadata": {},
   "outputs": [
    {
     "data": {
      "text/html": [
       "<div>\n",
       "<style scoped>\n",
       "    .dataframe tbody tr th:only-of-type {\n",
       "        vertical-align: middle;\n",
       "    }\n",
       "\n",
       "    .dataframe tbody tr th {\n",
       "        vertical-align: top;\n",
       "    }\n",
       "\n",
       "    .dataframe thead th {\n",
       "        text-align: right;\n",
       "    }\n",
       "</style>\n",
       "<table border=\"1\" class=\"dataframe\">\n",
       "  <thead>\n",
       "    <tr style=\"text-align: right;\">\n",
       "      <th></th>\n",
       "      <th>x1</th>\n",
       "      <th>y1</th>\n",
       "      <th>x2</th>\n",
       "      <th>y2</th>\n",
       "    </tr>\n",
       "  </thead>\n",
       "  <tbody>\n",
       "    <tr>\n",
       "      <th>0</th>\n",
       "      <td>103.870251</td>\n",
       "      <td>1.409908</td>\n",
       "      <td>103.903871</td>\n",
       "      <td>1.305502</td>\n",
       "    </tr>\n",
       "    <tr>\n",
       "      <th>1</th>\n",
       "      <td>103.981641</td>\n",
       "      <td>1.390690</td>\n",
       "      <td>103.800554</td>\n",
       "      <td>1.317248</td>\n",
       "    </tr>\n",
       "    <tr>\n",
       "      <th>2</th>\n",
       "      <td>103.871040</td>\n",
       "      <td>1.409889</td>\n",
       "      <td>103.914317</td>\n",
       "      <td>1.406251</td>\n",
       "    </tr>\n",
       "    <tr>\n",
       "      <th>3</th>\n",
       "      <td>103.871420</td>\n",
       "      <td>1.409876</td>\n",
       "      <td>103.769156</td>\n",
       "      <td>1.410689</td>\n",
       "    </tr>\n",
       "    <tr>\n",
       "      <th>4</th>\n",
       "      <td>103.832676</td>\n",
       "      <td>1.381225</td>\n",
       "      <td>103.843402</td>\n",
       "      <td>1.285886</td>\n",
       "    </tr>\n",
       "  </tbody>\n",
       "</table>\n",
       "</div>"
      ],
      "text/plain": [
       "           x1        y1          x2        y2\n",
       "0  103.870251  1.409908  103.903871  1.305502\n",
       "1  103.981641  1.390690  103.800554  1.317248\n",
       "2  103.871040  1.409889  103.914317  1.406251\n",
       "3  103.871420  1.409876  103.769156  1.410689\n",
       "4  103.832676  1.381225  103.843402  1.285886"
      ]
     },
     "execution_count": 38,
     "metadata": {},
     "output_type": "execute_result"
    }
   ],
   "source": [
    "samples.head()"
   ]
  },
  {
   "cell_type": "code",
   "execution_count": 39,
   "metadata": {},
   "outputs": [],
   "source": [
    "samples['pck'] = samples.apply(lambda r: (r['y1'], r['x1']), axis=1)\n",
    "samples['des'] = samples.apply(lambda r: (r['y2'], r['x2']), axis=1)"
   ]
  },
  {
   "cell_type": "code",
   "execution_count": 40,
   "metadata": {},
   "outputs": [],
   "source": [
    "samples['my_distance'] = samples.apply(lambda r: get_distance(r['x1'],r['y1'],r['x2'],r['y2']), axis= 1)"
   ]
  },
  {
   "cell_type": "code",
   "execution_count": 41,
   "metadata": {},
   "outputs": [],
   "source": [
    "from geopy import distance"
   ]
  },
  {
   "cell_type": "code",
   "execution_count": 42,
   "metadata": {},
   "outputs": [],
   "source": [
    "samples['geopy_distance'] = samples.apply(lambda r: distance.distance(r['pck'], r['des']), axis=1)"
   ]
  },
  {
   "cell_type": "code",
   "execution_count": 43,
   "metadata": {},
   "outputs": [],
   "source": [
    "samples['geopy_great_circle'] = samples.apply(lambda r: distance.great_circle(r['pck'], r['des']), axis=1)"
   ]
  },
  {
   "cell_type": "code",
   "execution_count": 44,
   "metadata": {},
   "outputs": [
    {
     "data": {
      "text/html": [
       "<div>\n",
       "<style scoped>\n",
       "    .dataframe tbody tr th:only-of-type {\n",
       "        vertical-align: middle;\n",
       "    }\n",
       "\n",
       "    .dataframe tbody tr th {\n",
       "        vertical-align: top;\n",
       "    }\n",
       "\n",
       "    .dataframe thead th {\n",
       "        text-align: right;\n",
       "    }\n",
       "</style>\n",
       "<table border=\"1\" class=\"dataframe\">\n",
       "  <thead>\n",
       "    <tr style=\"text-align: right;\">\n",
       "      <th></th>\n",
       "      <th>x1</th>\n",
       "      <th>y1</th>\n",
       "      <th>x2</th>\n",
       "      <th>y2</th>\n",
       "      <th>pck</th>\n",
       "      <th>des</th>\n",
       "      <th>my_distance</th>\n",
       "      <th>geopy_distance</th>\n",
       "      <th>geopy_great_circle</th>\n",
       "    </tr>\n",
       "  </thead>\n",
       "  <tbody>\n",
       "    <tr>\n",
       "      <th>0</th>\n",
       "      <td>103.870251</td>\n",
       "      <td>1.409908</td>\n",
       "      <td>103.903871</td>\n",
       "      <td>1.305502</td>\n",
       "      <td>(1.40990829, 103.87025107)</td>\n",
       "      <td>(1.30550212, 103.90387134)</td>\n",
       "      <td>12.209581</td>\n",
       "      <td>12.135868882161455 km</td>\n",
       "      <td>12.19619795236913 km</td>\n",
       "    </tr>\n",
       "    <tr>\n",
       "      <th>1</th>\n",
       "      <td>103.981641</td>\n",
       "      <td>1.390690</td>\n",
       "      <td>103.800554</td>\n",
       "      <td>1.317248</td>\n",
       "      <td>(1.39068971, 103.98164067)</td>\n",
       "      <td>(1.3172479, 103.80055396)</td>\n",
       "      <td>21.747550</td>\n",
       "      <td>21.727554680467982 km</td>\n",
       "      <td>21.72371269888035 km</td>\n",
       "    </tr>\n",
       "    <tr>\n",
       "      <th>2</th>\n",
       "      <td>103.871040</td>\n",
       "      <td>1.409889</td>\n",
       "      <td>103.914317</td>\n",
       "      <td>1.406251</td>\n",
       "      <td>(1.40988914, 103.87103974)</td>\n",
       "      <td>(1.40625096, 103.91431741)</td>\n",
       "      <td>4.833088</td>\n",
       "      <td>4.8329754331677375 km</td>\n",
       "      <td>4.8277905441288596 km</td>\n",
       "    </tr>\n",
       "    <tr>\n",
       "      <th>3</th>\n",
       "      <td>103.871420</td>\n",
       "      <td>1.409876</td>\n",
       "      <td>103.769156</td>\n",
       "      <td>1.410689</td>\n",
       "      <td>(1.40987613, 103.87142031)</td>\n",
       "      <td>(1.41068858, 103.76915635)</td>\n",
       "      <td>11.380638</td>\n",
       "      <td>11.380901271074691 km</td>\n",
       "      <td>11.368164081340128 km</td>\n",
       "    </tr>\n",
       "    <tr>\n",
       "      <th>4</th>\n",
       "      <td>103.832676</td>\n",
       "      <td>1.381225</td>\n",
       "      <td>103.843402</td>\n",
       "      <td>1.285886</td>\n",
       "      <td>(1.38122546, 103.83267643)</td>\n",
       "      <td>(1.28588592, 103.8434018)</td>\n",
       "      <td>10.679829</td>\n",
       "      <td>10.609515837257671 km</td>\n",
       "      <td>10.668123275017898 km</td>\n",
       "    </tr>\n",
       "  </tbody>\n",
       "</table>\n",
       "</div>"
      ],
      "text/plain": [
       "           x1        y1          x2        y2                         pck  \\\n",
       "0  103.870251  1.409908  103.903871  1.305502  (1.40990829, 103.87025107)   \n",
       "1  103.981641  1.390690  103.800554  1.317248  (1.39068971, 103.98164067)   \n",
       "2  103.871040  1.409889  103.914317  1.406251  (1.40988914, 103.87103974)   \n",
       "3  103.871420  1.409876  103.769156  1.410689  (1.40987613, 103.87142031)   \n",
       "4  103.832676  1.381225  103.843402  1.285886  (1.38122546, 103.83267643)   \n",
       "\n",
       "                          des  my_distance         geopy_distance  \\\n",
       "0  (1.30550212, 103.90387134)    12.209581  12.135868882161455 km   \n",
       "1   (1.3172479, 103.80055396)    21.747550  21.727554680467982 km   \n",
       "2  (1.40625096, 103.91431741)     4.833088  4.8329754331677375 km   \n",
       "3  (1.41068858, 103.76915635)    11.380638  11.380901271074691 km   \n",
       "4   (1.28588592, 103.8434018)    10.679829  10.609515837257671 km   \n",
       "\n",
       "      geopy_great_circle  \n",
       "0   12.19619795236913 km  \n",
       "1   21.72371269888035 km  \n",
       "2  4.8277905441288596 km  \n",
       "3  11.368164081340128 km  \n",
       "4  10.668123275017898 km  "
      ]
     },
     "execution_count": 44,
     "metadata": {},
     "output_type": "execute_result"
    }
   ],
   "source": [
    "samples.head()"
   ]
  },
  {
   "cell_type": "code",
   "execution_count": 45,
   "metadata": {},
   "outputs": [
    {
     "name": "stdout",
     "output_type": "stream",
     "text": [
      "<class 'pandas.core.frame.DataFrame'>\n",
      "RangeIndex: 10 entries, 0 to 9\n",
      "Data columns (total 9 columns):\n",
      "x1                    10 non-null float64\n",
      "y1                    10 non-null float64\n",
      "x2                    10 non-null float64\n",
      "y2                    10 non-null float64\n",
      "pck                   10 non-null object\n",
      "des                   10 non-null object\n",
      "my_distance           10 non-null float64\n",
      "geopy_distance        10 non-null object\n",
      "geopy_great_circle    10 non-null object\n",
      "dtypes: float64(5), object(4)\n",
      "memory usage: 800.0+ bytes\n"
     ]
    }
   ],
   "source": [
    "samples.info()"
   ]
  },
  {
   "cell_type": "code",
   "execution_count": null,
   "metadata": {},
   "outputs": [],
   "source": []
  }
 ],
 "metadata": {
  "kernelspec": {
   "display_name": "Python 3",
   "language": "python",
   "name": "python3"
  },
  "language_info": {
   "codemirror_mode": {
    "name": "ipython",
    "version": 3
   },
   "file_extension": ".py",
   "mimetype": "text/x-python",
   "name": "python",
   "nbconvert_exporter": "python",
   "pygments_lexer": "ipython3",
   "version": "3.6.5"
  }
 },
 "nbformat": 4,
 "nbformat_minor": 2
}
