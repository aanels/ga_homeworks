{
 "cells": [
  {
   "cell_type": "code",
   "execution_count": 1,
   "metadata": {},
   "outputs": [],
   "source": [
    "import pandas as pd\n",
    "import seaborn as sns\n",
    "import numpy as np\n",
    "from sklearn.model_selection import train_test_split, cross_val_score\n",
    "from sklearn.linear_model import Ridge, Lasso, ElasticNet, LinearRegression, RidgeCV, LassoCV, ElasticNetCV\n",
    "from sklearn import metrics\n"
   ]
  },
  {
   "cell_type": "code",
   "execution_count": 2,
   "metadata": {},
   "outputs": [
    {
     "data": {
      "text/html": [
       "<div>\n",
       "<style scoped>\n",
       "    .dataframe tbody tr th:only-of-type {\n",
       "        vertical-align: middle;\n",
       "    }\n",
       "\n",
       "    .dataframe tbody tr th {\n",
       "        vertical-align: top;\n",
       "    }\n",
       "\n",
       "    .dataframe thead th {\n",
       "        text-align: right;\n",
       "    }\n",
       "</style>\n",
       "<table border=\"1\" class=\"dataframe\">\n",
       "  <thead>\n",
       "    <tr style=\"text-align: right;\">\n",
       "      <th></th>\n",
       "      <th>drp_rnd_long</th>\n",
       "      <th>drp_rnd_lat</th>\n",
       "      <th>pickup_weekday</th>\n",
       "      <th>pickup_hrmi</th>\n",
       "      <th>avg_distance</th>\n",
       "      <th>trips_count</th>\n",
       "    </tr>\n",
       "  </thead>\n",
       "  <tbody>\n",
       "    <tr>\n",
       "      <th>0</th>\n",
       "      <td>-121.93</td>\n",
       "      <td>37.39</td>\n",
       "      <td>2</td>\n",
       "      <td>18.25</td>\n",
       "      <td>0.021824</td>\n",
       "      <td>1</td>\n",
       "    </tr>\n",
       "    <tr>\n",
       "      <th>1</th>\n",
       "      <td>-121.93</td>\n",
       "      <td>37.39</td>\n",
       "      <td>4</td>\n",
       "      <td>13.75</td>\n",
       "      <td>0.014827</td>\n",
       "      <td>1</td>\n",
       "    </tr>\n",
       "    <tr>\n",
       "      <th>2</th>\n",
       "      <td>-80.36</td>\n",
       "      <td>42.09</td>\n",
       "      <td>3</td>\n",
       "      <td>18.25</td>\n",
       "      <td>85.979240</td>\n",
       "      <td>1</td>\n",
       "    </tr>\n",
       "    <tr>\n",
       "      <th>3</th>\n",
       "      <td>-79.82</td>\n",
       "      <td>38.96</td>\n",
       "      <td>3</td>\n",
       "      <td>13.50</td>\n",
       "      <td>546.453239</td>\n",
       "      <td>1</td>\n",
       "    </tr>\n",
       "    <tr>\n",
       "      <th>4</th>\n",
       "      <td>-79.79</td>\n",
       "      <td>40.92</td>\n",
       "      <td>6</td>\n",
       "      <td>21.00</td>\n",
       "      <td>104.875073</td>\n",
       "      <td>1</td>\n",
       "    </tr>\n",
       "  </tbody>\n",
       "</table>\n",
       "</div>"
      ],
      "text/plain": [
       "   drp_rnd_long  drp_rnd_lat  pickup_weekday  pickup_hrmi  avg_distance  \\\n",
       "0       -121.93        37.39               2        18.25      0.021824   \n",
       "1       -121.93        37.39               4        13.75      0.014827   \n",
       "2        -80.36        42.09               3        18.25     85.979240   \n",
       "3        -79.82        38.96               3        13.50    546.453239   \n",
       "4        -79.79        40.92               6        21.00    104.875073   \n",
       "\n",
       "   trips_count  \n",
       "0            1  \n",
       "1            1  \n",
       "2            1  \n",
       "3            1  \n",
       "4            1  "
      ]
     },
     "execution_count": 2,
     "metadata": {},
     "output_type": "execute_result"
    }
   ],
   "source": [
    "dfp = pd.read_csv('./data/processed.csv')\n",
    "dfp.head()"
   ]
  },
  {
   "cell_type": "code",
   "execution_count": 3,
   "metadata": {},
   "outputs": [
    {
     "data": {
      "text/plain": [
       "<matplotlib.axes._subplots.AxesSubplot at 0x105c16358>"
      ]
     },
     "execution_count": 3,
     "metadata": {},
     "output_type": "execute_result"
    },
    {
     "data": {
      "image/png": "[encoded data removed]",
      "text/plain": [
       "<Figure size 432x288 with 2 Axes>"
      ]
     },
     "metadata": {},
     "output_type": "display_data"
    }
   ],
   "source": [
    "sns.heatmap(dfp.corr())"
   ]
  },
  {
   "cell_type": "code",
   "execution_count": 4,
   "metadata": {},
   "outputs": [
    {
     "data": {
      "text/plain": [
       "<seaborn.axisgrid.PairGrid at 0x10a3d4550>"
      ]
     },
     "execution_count": 4,
     "metadata": {},
     "output_type": "execute_result"
    },
    {
     "data": {
      "image/png": "[encoded data removed]",
      "text/plain": [
       "<Figure size 720x180 with 4 Axes>"
      ]
     },
     "metadata": {},
     "output_type": "display_data"
    }
   ],
   "source": [
    "sns.pairplot(dfp, x_vars=['drp_rnd_long','drp_rnd_lat','pickup_weekday','pickup_hrmi'], y_vars='trips_count', kind='reg')"
   ]
  },
  {
   "cell_type": "markdown",
   "metadata": {},
   "source": [
    "#### Create dummies for weekday column as it is categorical"
   ]
  },
  {
   "cell_type": "code",
   "execution_count": 5,
   "metadata": {},
   "outputs": [],
   "source": [
    "dfdum = pd.get_dummies(dfp.pickup_weekday, prefix='week').drop('week_0', axis=1)\n",
    "dfp = pd.concat([dfp,dfdum], axis=1)"
   ]
  },
  {
   "cell_type": "code",
   "execution_count": 6,
   "metadata": {},
   "outputs": [
    {
     "data": {
      "text/html": [
       "<div>\n",
       "<style scoped>\n",
       "    .dataframe tbody tr th:only-of-type {\n",
       "        vertical-align: middle;\n",
       "    }\n",
       "\n",
       "    .dataframe tbody tr th {\n",
       "        vertical-align: top;\n",
       "    }\n",
       "\n",
       "    .dataframe thead th {\n",
       "        text-align: right;\n",
       "    }\n",
       "</style>\n",
       "<table border=\"1\" class=\"dataframe\">\n",
       "  <thead>\n",
       "    <tr style=\"text-align: right;\">\n",
       "      <th></th>\n",
       "      <th>drp_rnd_long</th>\n",
       "      <th>drp_rnd_lat</th>\n",
       "      <th>pickup_weekday</th>\n",
       "      <th>pickup_hrmi</th>\n",
       "      <th>avg_distance</th>\n",
       "      <th>trips_count</th>\n",
       "      <th>week_1</th>\n",
       "      <th>week_2</th>\n",
       "      <th>week_3</th>\n",
       "      <th>week_4</th>\n",
       "      <th>week_5</th>\n",
       "      <th>week_6</th>\n",
       "    </tr>\n",
       "  </thead>\n",
       "  <tbody>\n",
       "    <tr>\n",
       "      <th>0</th>\n",
       "      <td>-121.93</td>\n",
       "      <td>37.39</td>\n",
       "      <td>2</td>\n",
       "      <td>18.25</td>\n",
       "      <td>0.021824</td>\n",
       "      <td>1</td>\n",
       "      <td>0</td>\n",
       "      <td>1</td>\n",
       "      <td>0</td>\n",
       "      <td>0</td>\n",
       "      <td>0</td>\n",
       "      <td>0</td>\n",
       "    </tr>\n",
       "    <tr>\n",
       "      <th>1</th>\n",
       "      <td>-121.93</td>\n",
       "      <td>37.39</td>\n",
       "      <td>4</td>\n",
       "      <td>13.75</td>\n",
       "      <td>0.014827</td>\n",
       "      <td>1</td>\n",
       "      <td>0</td>\n",
       "      <td>0</td>\n",
       "      <td>0</td>\n",
       "      <td>1</td>\n",
       "      <td>0</td>\n",
       "      <td>0</td>\n",
       "    </tr>\n",
       "    <tr>\n",
       "      <th>2</th>\n",
       "      <td>-80.36</td>\n",
       "      <td>42.09</td>\n",
       "      <td>3</td>\n",
       "      <td>18.25</td>\n",
       "      <td>85.979240</td>\n",
       "      <td>1</td>\n",
       "      <td>0</td>\n",
       "      <td>0</td>\n",
       "      <td>1</td>\n",
       "      <td>0</td>\n",
       "      <td>0</td>\n",
       "      <td>0</td>\n",
       "    </tr>\n",
       "    <tr>\n",
       "      <th>3</th>\n",
       "      <td>-79.82</td>\n",
       "      <td>38.96</td>\n",
       "      <td>3</td>\n",
       "      <td>13.50</td>\n",
       "      <td>546.453239</td>\n",
       "      <td>1</td>\n",
       "      <td>0</td>\n",
       "      <td>0</td>\n",
       "      <td>1</td>\n",
       "      <td>0</td>\n",
       "      <td>0</td>\n",
       "      <td>0</td>\n",
       "    </tr>\n",
       "    <tr>\n",
       "      <th>4</th>\n",
       "      <td>-79.79</td>\n",
       "      <td>40.92</td>\n",
       "      <td>6</td>\n",
       "      <td>21.00</td>\n",
       "      <td>104.875073</td>\n",
       "      <td>1</td>\n",
       "      <td>0</td>\n",
       "      <td>0</td>\n",
       "      <td>0</td>\n",
       "      <td>0</td>\n",
       "      <td>0</td>\n",
       "      <td>1</td>\n",
       "    </tr>\n",
       "  </tbody>\n",
       "</table>\n",
       "</div>"
      ],
      "text/plain": [
       "   drp_rnd_long  drp_rnd_lat  pickup_weekday  pickup_hrmi  avg_distance  \\\n",
       "0       -121.93        37.39               2        18.25      0.021824   \n",
       "1       -121.93        37.39               4        13.75      0.014827   \n",
       "2        -80.36        42.09               3        18.25     85.979240   \n",
       "3        -79.82        38.96               3        13.50    546.453239   \n",
       "4        -79.79        40.92               6        21.00    104.875073   \n",
       "\n",
       "   trips_count  week_1  week_2  week_3  week_4  week_5  week_6  \n",
       "0            1       0       1       0       0       0       0  \n",
       "1            1       0       0       0       1       0       0  \n",
       "2            1       0       0       1       0       0       0  \n",
       "3            1       0       0       1       0       0       0  \n",
       "4            1       0       0       0       0       0       1  "
      ]
     },
     "execution_count": 6,
     "metadata": {},
     "output_type": "execute_result"
    }
   ],
   "source": [
    "dfp.head()"
   ]
  },
  {
   "cell_type": "code",
   "execution_count": 7,
   "metadata": {},
   "outputs": [],
   "source": [
    "X = dfp[['drp_rnd_long','drp_rnd_lat','pickup_hrmi','week_1','week_2','week_3','week_4','week_5', 'week_6']]\n",
    "y = dfp['trips_count']"
   ]
  },
  {
   "cell_type": "code",
   "execution_count": 8,
   "metadata": {},
   "outputs": [],
   "source": [
    "lr = LinearRegression()\n",
    "lr_scores = cross_val_score(lr, X, y, cv=10)"
   ]
  },
  {
   "cell_type": "code",
   "execution_count": 9,
   "metadata": {},
   "outputs": [
    {
     "name": "stdout",
     "output_type": "stream",
     "text": [
      "[-9.46209509e+00 -2.40635358e-01 -2.33726492e-01  6.42046971e-03\n",
      "  3.85228361e-02  1.56747483e-02 -2.43782960e+01 -5.64377175e+01\n",
      " -4.32738280e+00 -2.78054007e+01]\n"
     ]
    }
   ],
   "source": [
    "print (lr_scores)"
   ]
  },
  {
   "cell_type": "markdown",
   "metadata": {},
   "source": [
    "#### Do a single train test split"
   ]
  },
  {
   "cell_type": "code",
   "execution_count": 10,
   "metadata": {},
   "outputs": [],
   "source": [
    "X_train, X_test, y_train, y_test = train_test_split(X, y, random_state=123)"
   ]
  },
  {
   "cell_type": "code",
   "execution_count": 11,
   "metadata": {},
   "outputs": [
    {
     "name": "stdout",
     "output_type": "stream",
     "text": [
      "26.829107457476027\n"
     ]
    }
   ],
   "source": [
    "lr = LinearRegression()\n",
    "lr.fit(X_train, y_train)\n",
    "y_pred = lr.predict(X_test)\n",
    "print (np.sqrt(metrics.mean_squared_error(y_test, y_pred)))"
   ]
  },
  {
   "cell_type": "markdown",
   "metadata": {},
   "source": [
    "#### Compare with a null RMSE"
   ]
  },
  {
   "cell_type": "markdown",
   "metadata": {},
   "source": [
    "y_pred"
   ]
  },
  {
   "cell_type": "code",
   "execution_count": 12,
   "metadata": {},
   "outputs": [
    {
     "data": {
      "text/plain": [
       "array([12.58111935, 12.58111935, 12.58111935, ..., 12.58111935,\n",
       "       12.58111935, 12.58111935])"
      ]
     },
     "execution_count": 12,
     "metadata": {},
     "output_type": "execute_result"
    }
   ],
   "source": [
    "y_null = np.zeros_like(y_test, dtype=float)\n",
    "y_null.fill(y_test.mean())\n",
    "y_null"
   ]
  },
  {
   "cell_type": "code",
   "execution_count": 13,
   "metadata": {},
   "outputs": [
    {
     "data": {
      "text/plain": [
       "27.162845138090184"
      ]
     },
     "execution_count": 13,
     "metadata": {},
     "output_type": "execute_result"
    }
   ],
   "source": [
    "np.sqrt(metrics.mean_squared_error(y_test, y_null))"
   ]
  },
  {
   "cell_type": "markdown",
   "metadata": {},
   "source": [
    "The RMSE for the liner regression model is only slightly better than NULL rmse."
   ]
  },
  {
   "cell_type": "markdown",
   "metadata": {},
   "source": [
    "#### Test it with other models"
   ]
  },
  {
   "cell_type": "code",
   "execution_count": 14,
   "metadata": {},
   "outputs": [],
   "source": [
    "def fit_and_predict(rgr, name):\n",
    "    rgr.fit(X_train,y_train)\n",
    "    y_pred = rgr.predict(X_test)\n",
    "    print (name, ':', np.sqrt(metrics.mean_squared_error(y_test, y_pred)))\n",
    "    print (\"Null:\", np.sqrt(metrics.mean_squared_error(y_test, y_null)))\n",
    "    "
   ]
  },
  {
   "cell_type": "code",
   "execution_count": 15,
   "metadata": {},
   "outputs": [
    {
     "name": "stdout",
     "output_type": "stream",
     "text": [
      "Linear Regression : 26.829107457476027\n",
      "Null: 27.162845138090184\n"
     ]
    }
   ],
   "source": [
    "fit_and_predict(LinearRegression(), 'Linear Regression')"
   ]
  },
  {
   "cell_type": "code",
   "execution_count": 16,
   "metadata": {},
   "outputs": [
    {
     "name": "stdout",
     "output_type": "stream",
     "text": [
      "Support Vector Regression : 28.769528109433622\n",
      "Null: 27.162845138090184\n"
     ]
    }
   ],
   "source": [
    "from sklearn.svm import SVR\n",
    "fit_and_predict(SVR(), 'Support Vector Regression')"
   ]
  },
  {
   "cell_type": "markdown",
   "metadata": {},
   "source": [
    "#### The SVR peformance badly. But as it is recommended to scale the data for SVR, we first use scaler"
   ]
  },
  {
   "cell_type": "code",
   "execution_count": 17,
   "metadata": {},
   "outputs": [],
   "source": [
    "def split_fit_and_predict(X, y, rgr, name):\n",
    "    X_train, X_test, y_train, y_test = train_test_split(X, y, random_state=123)\n",
    "    rgr.fit(X_train,y_train)\n",
    "    y_pred = rgr.predict(X_test)\n",
    "    print (name, ':', np.sqrt(metrics.mean_squared_error(y_test, y_pred)))\n",
    "    print (\"Null:\", np.sqrt(metrics.mean_squared_error(y_test, y_null)))"
   ]
  },
  {
   "cell_type": "code",
   "execution_count": 18,
   "metadata": {},
   "outputs": [
    {
     "data": {
      "text/html": [
       "<div>\n",
       "<style scoped>\n",
       "    .dataframe tbody tr th:only-of-type {\n",
       "        vertical-align: middle;\n",
       "    }\n",
       "\n",
       "    .dataframe tbody tr th {\n",
       "        vertical-align: top;\n",
       "    }\n",
       "\n",
       "    .dataframe thead th {\n",
       "        text-align: right;\n",
       "    }\n",
       "</style>\n",
       "<table border=\"1\" class=\"dataframe\">\n",
       "  <thead>\n",
       "    <tr style=\"text-align: right;\">\n",
       "      <th></th>\n",
       "      <th>drp_rnd_long</th>\n",
       "      <th>drp_rnd_lat</th>\n",
       "      <th>pickup_hrmi</th>\n",
       "      <th>week_1</th>\n",
       "      <th>week_2</th>\n",
       "      <th>week_3</th>\n",
       "      <th>week_4</th>\n",
       "      <th>week_5</th>\n",
       "      <th>week_6</th>\n",
       "    </tr>\n",
       "  </thead>\n",
       "  <tbody>\n",
       "    <tr>\n",
       "      <th>0</th>\n",
       "      <td>-121.93</td>\n",
       "      <td>37.39</td>\n",
       "      <td>18.25</td>\n",
       "      <td>0</td>\n",
       "      <td>1</td>\n",
       "      <td>0</td>\n",
       "      <td>0</td>\n",
       "      <td>0</td>\n",
       "      <td>0</td>\n",
       "    </tr>\n",
       "    <tr>\n",
       "      <th>1</th>\n",
       "      <td>-121.93</td>\n",
       "      <td>37.39</td>\n",
       "      <td>13.75</td>\n",
       "      <td>0</td>\n",
       "      <td>0</td>\n",
       "      <td>0</td>\n",
       "      <td>1</td>\n",
       "      <td>0</td>\n",
       "      <td>0</td>\n",
       "    </tr>\n",
       "    <tr>\n",
       "      <th>2</th>\n",
       "      <td>-80.36</td>\n",
       "      <td>42.09</td>\n",
       "      <td>18.25</td>\n",
       "      <td>0</td>\n",
       "      <td>0</td>\n",
       "      <td>1</td>\n",
       "      <td>0</td>\n",
       "      <td>0</td>\n",
       "      <td>0</td>\n",
       "    </tr>\n",
       "    <tr>\n",
       "      <th>3</th>\n",
       "      <td>-79.82</td>\n",
       "      <td>38.96</td>\n",
       "      <td>13.50</td>\n",
       "      <td>0</td>\n",
       "      <td>0</td>\n",
       "      <td>1</td>\n",
       "      <td>0</td>\n",
       "      <td>0</td>\n",
       "      <td>0</td>\n",
       "    </tr>\n",
       "    <tr>\n",
       "      <th>4</th>\n",
       "      <td>-79.79</td>\n",
       "      <td>40.92</td>\n",
       "      <td>21.00</td>\n",
       "      <td>0</td>\n",
       "      <td>0</td>\n",
       "      <td>0</td>\n",
       "      <td>0</td>\n",
       "      <td>0</td>\n",
       "      <td>1</td>\n",
       "    </tr>\n",
       "  </tbody>\n",
       "</table>\n",
       "</div>"
      ],
      "text/plain": [
       "   drp_rnd_long  drp_rnd_lat  pickup_hrmi  week_1  week_2  week_3  week_4  \\\n",
       "0       -121.93        37.39        18.25       0       1       0       0   \n",
       "1       -121.93        37.39        13.75       0       0       0       1   \n",
       "2        -80.36        42.09        18.25       0       0       1       0   \n",
       "3        -79.82        38.96        13.50       0       0       1       0   \n",
       "4        -79.79        40.92        21.00       0       0       0       0   \n",
       "\n",
       "   week_5  week_6  \n",
       "0       0       0  \n",
       "1       0       0  \n",
       "2       0       0  \n",
       "3       0       0  \n",
       "4       0       1  "
      ]
     },
     "execution_count": 18,
     "metadata": {},
     "output_type": "execute_result"
    }
   ],
   "source": [
    "X.head()"
   ]
  },
  {
   "cell_type": "code",
   "execution_count": 19,
   "metadata": {},
   "outputs": [],
   "source": [
    "from sklearn.preprocessing import StandardScaler\n",
    "ss = StandardScaler()\n",
    "Xs = ss.fit_transform(X)"
   ]
  },
  {
   "cell_type": "code",
   "execution_count": 20,
   "metadata": {},
   "outputs": [
    {
     "data": {
      "text/plain": [
       "array([[-2.13427727e+02, -3.97960428e+01,  7.82477039e-01, ...,\n",
       "        -4.15832474e-01, -4.22863812e-01, -4.25961713e-01],\n",
       "       [-2.13427727e+02, -3.97960428e+01,  1.73470519e-01, ...,\n",
       "         2.40481459e+00, -4.22863812e-01, -4.25961713e-01],\n",
       "       [-2.85543555e+01,  1.60438106e+01,  7.82477039e-01, ...,\n",
       "        -4.15832474e-01, -4.22863812e-01, -4.25961713e-01],\n",
       "       ...,\n",
       "       [ 3.57532931e+01, -1.52027456e+01,  5.79474866e-01, ...,\n",
       "        -4.15832474e-01, -4.22863812e-01,  2.34762883e+00],\n",
       "       [ 3.59756570e+01, -7.57949269e+01,  1.05314660e+00, ...,\n",
       "        -4.15832474e-01, -4.22863812e-01, -4.25961713e-01],\n",
       "       [ 5.60328836e+01, -3.43308656e+01,  5.79474866e-01, ...,\n",
       "         2.40481459e+00, -4.22863812e-01, -4.25961713e-01]])"
      ]
     },
     "execution_count": 20,
     "metadata": {},
     "output_type": "execute_result"
    }
   ],
   "source": [
    "Xs"
   ]
  },
  {
   "cell_type": "code",
   "execution_count": 21,
   "metadata": {},
   "outputs": [
    {
     "name": "stdout",
     "output_type": "stream",
     "text": [
      "Linear Regression : 26.829107457476027\n",
      "Null: 27.162845138090184\n"
     ]
    }
   ],
   "source": [
    "split_fit_and_predict(X, y, LinearRegression(), 'Linear Regression')"
   ]
  },
  {
   "cell_type": "code",
   "execution_count": 22,
   "metadata": {},
   "outputs": [
    {
     "name": "stdout",
     "output_type": "stream",
     "text": [
      "Linear Regression : 26.82910745747603\n",
      "Null: 27.162845138090184\n"
     ]
    }
   ],
   "source": [
    "split_fit_and_predict(Xs, y, LinearRegression(), 'Linear Regression')"
   ]
  },
  {
   "cell_type": "code",
   "execution_count": 23,
   "metadata": {},
   "outputs": [
    {
     "name": "stdout",
     "output_type": "stream",
     "text": [
      "Support Vector Regression with scale : 27.603133033032044\n",
      "Null: 27.162845138090184\n"
     ]
    }
   ],
   "source": [
    "split_fit_and_predict(Xs, y, SVR(), 'Support Vector Regression with scale')"
   ]
  },
  {
   "cell_type": "markdown",
   "metadata": {},
   "source": [
    "#### Scaling has reduced RMSE for SVR but still it is not better then NULL RMSE"
   ]
  },
  {
   "cell_type": "code",
   "execution_count": null,
   "metadata": {},
   "outputs": [],
   "source": []
  }
 ],
 "metadata": {
  "kernelspec": {
   "display_name": "Python 3",
   "language": "python",
   "name": "python3"
  },
  "language_info": {
   "codemirror_mode": {
    "name": "ipython",
    "version": 3
   },
   "file_extension": ".py",
   "mimetype": "text/x-python",
   "name": "python",
   "nbconvert_exporter": "python",
   "pygments_lexer": "ipython3",
   "version": "3.6.5"
  }
 },
 "nbformat": 4,
 "nbformat_minor": 2
}
