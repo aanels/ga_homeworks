{
 "cells": [
  {
   "cell_type": "markdown",
   "metadata": {},
   "source": [
    "<img src=\"http://imgur.com/1ZcRyrc.png\" style=\"float: left; margin: 20px; height: 55px\">\n",
    "\n",
    "# Project 2: Analyzing Chipotle Data\n",
    "\n",
    "_Author: Joseph Nelson (DC)_\n",
    "\n",
    "---"
   ]
  },
  {
   "cell_type": "markdown",
   "metadata": {},
   "source": [
    "For Project 2, you will complete a series of exercises exploring [order data from Chipotle](https://github.com/TheUpshot/chipotle), compliments of _The New York Times'_ \"The Upshot.\"\n",
    "\n",
    "For these exercises, you will conduct basic exploratory data analysis (Pandas not required) to understand the essentials of Chipotle's order data: how many orders are being made, the average price per order, how many different ingredients are used, etc. These allow you to practice business analysis skills while also becoming comfortable with Python."
   ]
  },
  {
   "cell_type": "markdown",
   "metadata": {},
   "source": [
    "---\n",
    "\n",
    "## Basic Level"
   ]
  },
  {
   "cell_type": "markdown",
   "metadata": {},
   "source": [
    "### Part 1: Read in the file with `csv.reader()` and store it in an object called `file_nested_list`.\n",
    "\n",
    "Hint: This is a TSV (tab-separated value) file, and `csv.reader()` needs to be told [how to handle it](https://docs.python.org/2/library/csv.html)."
   ]
  },
  {
   "cell_type": "code",
   "execution_count": 1,
   "metadata": {},
   "outputs": [],
   "source": [
    "import csv\n",
    "from collections import namedtuple   # Convenient to store the data rows\n",
    "\n",
    "DATA_FILE = './data/chipotle.tsv'"
   ]
  },
  {
   "cell_type": "code",
   "execution_count": 2,
   "metadata": {},
   "outputs": [],
   "source": [
    "OrderRecord = namedtuple('OrderRecord','order_id quantity item_name choice_description item_price')\n",
    "file_nested_list = []\n",
    "with open(DATA_FILE,'r') as f:\n",
    "    reader = csv.reader(f, delimiter='\\t', quoting=csv.QUOTE_NONE)\n",
    "    for row in map(OrderRecord._make, reader):\n",
    "        file_nested_list.append(row)"
   ]
  },
  {
   "cell_type": "markdown",
   "metadata": {},
   "source": [
    "### Part 2: Separate `file_nested_list` into the `header` and the `data`.\n"
   ]
  },
  {
   "cell_type": "code",
   "execution_count": 3,
   "metadata": {},
   "outputs": [],
   "source": [
    "header = file_nested_list[:1]"
   ]
  },
  {
   "cell_type": "code",
   "execution_count": 4,
   "metadata": {},
   "outputs": [],
   "source": [
    "data = file_nested_list[1:]"
   ]
  },
  {
   "cell_type": "markdown",
   "metadata": {},
   "source": [
    "---\n",
    "\n",
    "## Intermediate Level"
   ]
  },
  {
   "cell_type": "markdown",
   "metadata": {},
   "source": [
    "### Part 3: Calculate the average price of an order.\n",
    "\n",
    "Hint: Examine the data to see if the `quantity` column is relevant to this calculation.\n",
    "\n",
    "Hint: Think carefully about the simplest way to do this!"
   ]
  },
  {
   "cell_type": "code",
   "execution_count": 5,
   "metadata": {},
   "outputs": [],
   "source": [
    "orders=[]\n",
    "for i in data:\n",
    "    if i.order_id not in orders:\n",
    "        orders.append(i.order_id)"
   ]
  },
  {
   "cell_type": "code",
   "execution_count": 6,
   "metadata": {},
   "outputs": [],
   "source": [
    "total_price_of_all_orders = sum([float(i.quantity) * float(i.item_price.replace('$','')) for i in data])\n",
    "# Same as below\n",
    "# total_price_of_all_orders =0\n",
    "# for i in  data:\n",
    "#    total_price_of_all_orders += float(i.quantity) * float(i.item_price.replace('$',''))\n"
   ]
  },
  {
   "cell_type": "code",
   "execution_count": 7,
   "metadata": {},
   "outputs": [],
   "source": [
    "avg_price_of_order=total_price_of_all_orders/len(orders)"
   ]
  },
  {
   "cell_type": "code",
   "execution_count": 8,
   "metadata": {},
   "outputs": [
    {
     "name": "stdout",
     "output_type": "stream",
     "text": [
      "21.3942311886587\n"
     ]
    }
   ],
   "source": [
    "print(avg_price_of_order)"
   ]
  },
  {
   "cell_type": "markdown",
   "metadata": {},
   "source": [
    "### Part 4: Create a list (or set) named `unique_sodas` containing all of unique sodas and soft drinks that Chipotle sells.\n",
    "\n",
    "Note: Just look for `'Canned Soda'` and `'Canned Soft Drink'`, and ignore other drinks like `'Izze'`."
   ]
  },
  {
   "cell_type": "code",
   "execution_count": 9,
   "metadata": {},
   "outputs": [],
   "source": [
    "unique_sodas = []\n",
    "for i in data:\n",
    "    if 'soda' in i.item_name.lower() or 'drink' in i.item_name.lower():\n",
    "        if i.item_name not in unique_sodas:\n",
    "            unique_sodas.append(i.item_name)"
   ]
  },
  {
   "cell_type": "code",
   "execution_count": 10,
   "metadata": {},
   "outputs": [
    {
     "data": {
      "text/plain": [
       "['Canned Soda', 'Canned Soft Drink', '6 Pack Soft Drink']"
      ]
     },
     "execution_count": 10,
     "metadata": {},
     "output_type": "execute_result"
    }
   ],
   "source": [
    "unique_sodas[0:10]"
   ]
  },
  {
   "cell_type": "code",
   "execution_count": null,
   "metadata": {},
   "outputs": [],
   "source": []
  },
  {
   "cell_type": "code",
   "execution_count": null,
   "metadata": {},
   "outputs": [],
   "source": []
  },
  {
   "cell_type": "markdown",
   "metadata": {},
   "source": [
    "---\n",
    "\n",
    "## Advanced Level\n"
   ]
  },
  {
   "cell_type": "markdown",
   "metadata": {},
   "source": [
    "### Part 5: Calculate the average number of toppings per burrito.\n",
    "\n",
    "Note: Let's ignore the `quantity` column to simplify this task.\n",
    "\n",
    "Hint: Think carefully about the easiest way to count the number of toppings!\n"
   ]
  },
  {
   "cell_type": "code",
   "execution_count": 11,
   "metadata": {},
   "outputs": [],
   "source": [
    "def get_toppings_count(choice):\n",
    "    # Assuming the toppings list is present after the last [\n",
    "    toppings = choice[choice.rfind('['):]\n",
    "    # Count number of commas and add one to get the number of toppings\n",
    "    return (len(toppings) - len(toppings.replace(',','')) + 1)"
   ]
  },
  {
   "cell_type": "code",
   "execution_count": 12,
   "metadata": {},
   "outputs": [],
   "source": [
    "burritos = [(i.item_name, i.choice_description, get_toppings_count(i.choice_description)) for i in data if 'burrito' in i.item_name.lower()]"
   ]
  },
  {
   "cell_type": "code",
   "execution_count": 13,
   "metadata": {},
   "outputs": [],
   "source": [
    "t_count = 0\n",
    "b_count = 0\n",
    "for b in burritos[0:]:\n",
    "    t_count = t_count + b[2]\n",
    "    b_count += 1"
   ]
  },
  {
   "cell_type": "code",
   "execution_count": 14,
   "metadata": {},
   "outputs": [
    {
     "name": "stdout",
     "output_type": "stream",
     "text": [
      "4.337883959044369\n"
     ]
    }
   ],
   "source": [
    "print (t_count/b_count)"
   ]
  },
  {
   "cell_type": "markdown",
   "metadata": {},
   "source": [
    "### Part 6: Create a dictionary. Let the keys represent chip orders and the values represent the total number of orders.\n",
    "\n",
    "Expected output: `{'Chips and Roasted Chili-Corn Salsa': 18, ... }`\n",
    "\n",
    "Note: Please take the `quantity` column into account!\n",
    "\n",
    "Optional: Learn how to use `.defaultdict()` to simplify your code."
   ]
  },
  {
   "cell_type": "code",
   "execution_count": 15,
   "metadata": {},
   "outputs": [],
   "source": [
    "chip_orders = [(i.item_name, float(i.quantity)) for i in data if 'chip' in i.item_name.lower()]"
   ]
  },
  {
   "cell_type": "code",
   "execution_count": 16,
   "metadata": {},
   "outputs": [],
   "source": [
    "# Without using defaultdict\n",
    "chips_dict = {}\n",
    "for c in chip_orders:\n",
    "    q =chips_dict.get(c[0]) \n",
    "    if q == None:\n",
    "        chips_dict[c[0]] = c[1]\n",
    "    else:\n",
    "        chips_dict[c[0]] = c[1] + q"
   ]
  },
  {
   "cell_type": "code",
   "execution_count": 17,
   "metadata": {},
   "outputs": [],
   "source": [
    "# Using defaultdict\n",
    "from collections import defaultdict\n",
    "chips_dict_def = defaultdict(int)\n",
    "for c in chip_orders:\n",
    "    chips_dict_def[c[0]] = chips_dict_def[c[0]] + c[1]"
   ]
  },
  {
   "cell_type": "code",
   "execution_count": 18,
   "metadata": {},
   "outputs": [
    {
     "data": {
      "text/plain": [
       "{'Chips and Fresh Tomato Salsa': 130.0,\n",
       " 'Chips and Tomatillo-Green Chili Salsa': 33.0,\n",
       " 'Side of Chips': 110.0,\n",
       " 'Chips and Guacamole': 506.0,\n",
       " 'Chips and Tomatillo Green Chili Salsa': 45.0,\n",
       " 'Chips': 230.0,\n",
       " 'Chips and Tomatillo Red Chili Salsa': 50.0,\n",
       " 'Chips and Roasted Chili-Corn Salsa': 18.0,\n",
       " 'Chips and Roasted Chili Corn Salsa': 23.0,\n",
       " 'Chips and Tomatillo-Red Chili Salsa': 25.0,\n",
       " 'Chips and Mild Fresh Tomato Salsa': 1.0}"
      ]
     },
     "execution_count": 18,
     "metadata": {},
     "output_type": "execute_result"
    }
   ],
   "source": [
    "chips_dict"
   ]
  },
  {
   "cell_type": "code",
   "execution_count": 19,
   "metadata": {},
   "outputs": [
    {
     "data": {
      "text/plain": [
       "defaultdict(int,\n",
       "            {'Chips and Fresh Tomato Salsa': 130.0,\n",
       "             'Chips and Tomatillo-Green Chili Salsa': 33.0,\n",
       "             'Side of Chips': 110.0,\n",
       "             'Chips and Guacamole': 506.0,\n",
       "             'Chips and Tomatillo Green Chili Salsa': 45.0,\n",
       "             'Chips': 230.0,\n",
       "             'Chips and Tomatillo Red Chili Salsa': 50.0,\n",
       "             'Chips and Roasted Chili-Corn Salsa': 18.0,\n",
       "             'Chips and Roasted Chili Corn Salsa': 23.0,\n",
       "             'Chips and Tomatillo-Red Chili Salsa': 25.0,\n",
       "             'Chips and Mild Fresh Tomato Salsa': 1.0})"
      ]
     },
     "execution_count": 19,
     "metadata": {},
     "output_type": "execute_result"
    }
   ],
   "source": [
    "chips_dict_def"
   ]
  },
  {
   "cell_type": "markdown",
   "metadata": {},
   "source": [
    "---\n",
    "\n",
    "## Bonus: Craft a problem statement about this data that interests you, and then answer it!\n"
   ]
  },
  {
   "cell_type": "markdown",
   "metadata": {
    "collapsed": true
   },
   "source": [
    "Problem statement:\n",
    "Which two items are ordered together the most (irrespective of the quantity ordered)? List top 10 sets."
   ]
  },
  {
   "cell_type": "code",
   "execution_count": 23,
   "metadata": {},
   "outputs": [
    {
     "data": {
      "text/plain": [
       "[(('Chicken Bowl', 'Chips and Guacamole'), 179),\n",
       " (('Chicken Bowl', 'Chicken Burrito'), 155),\n",
       " (('Chicken Bowl', 'Chips'), 143),\n",
       " (('Canned Soft Drink', 'Chicken Bowl'), 134),\n",
       " (('Chicken Burrito', 'Chips and Guacamole'), 128),\n",
       " (('Chicken Burrito', 'Steak Burrito'), 108),\n",
       " (('Chicken Bowl', 'Steak Bowl'), 87),\n",
       " (('Canned Soft Drink', 'Chicken Burrito'), 82),\n",
       " (('Chips and Guacamole', 'Steak Burrito'), 79),\n",
       " (('Bottled Water', 'Chicken Bowl'), 74)]"
      ]
     },
     "execution_count": 23,
     "metadata": {},
     "output_type": "execute_result"
    }
   ],
   "source": [
    "# Form a tuple of all combinations of two items from the data\n",
    "# and create a dictionary of the tuple against count of them if they are in same order. \n",
    "fd = defaultdict(int)\n",
    "for i in range(len(data)):\n",
    "    for j in range(i+1,len(data)):\n",
    "        # We add to dictionary if both the items belong to the same order\n",
    "        # and are not the same (since some items are ordered more than once in the same order)\n",
    "        if data[i].order_id == data[j].order_id and data[i].item_name != data[j].item_name:\n",
    "            # Before adding to the dictionary we first sort the item names \n",
    "            # since (item_a, item_b) should be treated same as (item_b, item_a)\n",
    "            s = sorted([data[i].item_name, data[j].item_name])\n",
    "            # Form a tuple of the two items as the key\n",
    "            k = (s[0], s[1])\n",
    "            fd[k] = fd[k] + 1\n",
    "# Sort the dictionary based on the value (number of orders) in reverse order and get the top 10            \n",
    "sorted_list = sorted(fd.items(), key=lambda kv: kv[1], reverse=True )           \n",
    "sorted_list[0:10]"
   ]
  },
  {
   "cell_type": "code",
   "execution_count": null,
   "metadata": {},
   "outputs": [],
   "source": []
  },
  {
   "cell_type": "code",
   "execution_count": null,
   "metadata": {},
   "outputs": [],
   "source": []
  }
 ],
 "metadata": {
  "anaconda-cloud": {},
  "kernelspec": {
   "display_name": "Python 3",
   "language": "python",
   "name": "python3"
  },
  "language_info": {
   "codemirror_mode": {
    "name": "ipython",
    "version": 3
   },
   "file_extension": ".py",
   "mimetype": "text/x-python",
   "name": "python",
   "nbconvert_exporter": "python",
   "pygments_lexer": "ipython3",
   "version": "3.6.5"
  }
 },
 "nbformat": 4,
 "nbformat_minor": 2
}
